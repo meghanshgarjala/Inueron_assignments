{
 "cells": [
  {
   "cell_type": "markdown",
   "id": "9ec56a8f-9657-4cfb-8dff-723ce0bfee3a",
   "metadata": {},
   "source": [
    "Q1. In order to predict house price based on several characteristics, such as location, square footage,number of bedrooms, etc., you are developing an SVM regression model. Which regression metric in this situation would be the best to employ?\n",
    "Dataset link:\n",
    "https://drive.google.com/file/d/1Z9oLpmt6IDRNw7IeNcHYTGeJRYypRSC0/view?usp=share_link\n",
    "\n",
    "\n",
    "Q2. You have built an SVM regression model and are trying to decide between using MSE or R-squared as your evaluation metric. Which metric would be more appropriate if your goal is to predict the actual price of a house as accurately as possible?\n",
    "\n",
    "\n",
    "Q3. You have a dataset with a significant number of outliers and are trying to select an appropriate regression metric to use with your SVM model. Which metric would be the most appropriate in this scenario?\n",
    "\n",
    "\n",
    "Q4. You have built an SVM regression model using a polynomial kernel and are trying to select the best metric to evaluate its performance. You have calculated both MSE and RMSE and found that both values are very close. Which metric should you choose to use in this case?\n",
    "\n",
    "\n",
    "Q5. You are comparing the performance of different SVM regression models using different kernels (linear,polynomial, and RBF) and are trying to select the best evaluation metric. Which metric would be most appropriate if your goal is to measure how well the model explains the variance in the target variable?"
   ]
  },
  {
   "cell_type": "markdown",
   "id": "f4191dc7-17db-40d6-badc-39508ad413f9",
   "metadata": {},
   "source": [
    "#1\n",
    "\n",
    "In predicting house prices, where the goal is to accurately predict the actual values, the Mean Absolute Error (MAE) or Root Mean Squared Error (RMSE) are generally considered the best metrics. Both metrics provide an interpretation in the same units as the target variable (house price).\n",
    "\n",
    "MAE gives an average of the absolute differences between predicted and actual values. It’s easy to interpret and less sensitive to outliers compared to RMSE.\n",
    "RMSE penalizes larger errors more heavily, which might be desirable if you want to focus on reducing large prediction errors.\n",
    "Recommendation: RMSE is often preferred in this context because it penalizes large errors more than MAE, which can be important when predicting house prices.\n",
    "\n",
    "\n",
    "#2 \n",
    "\n",
    "Mean Squared Error (MSE) measures the average of the squares of the errors, giving you a sense of how far the predictions are from the actual values in terms of squared units.\n",
    "R-squared measures the proportion of variance in the target variable that is explained by the model. It’s useful for understanding the goodness of fit but doesn’t give direct insight into the accuracy of predictions.\n",
    "Recommendation: If your goal is to predict the actual price of a house as accurately as possible, MSE (or better yet, RMSE) would be more appropriate because it directly reflects the prediction error in the same units as the target variable (house price).\n",
    "\n",
    "\n",
    "#3 \n",
    "In the presence of outliers, Mean Absolute Error (MAE) is usually more appropriate because it is less sensitive to outliers compared to metrics like MSE or RMSE. MAE treats all errors equally, without squaring them, so outliers have less influence on the final error metric.\n",
    "\n",
    "Recommendation: Use MAE when dealing with datasets that have significant outliers, as it provides a more robust measure of average error.\n",
    "\n",
    "\n",
    "#4.\n",
    "Both MSE and RMSE are related, with RMSE being the square root of MSE. If they are very close, it usually doesn’t matter much which one you choose in terms of evaluating model performance.\n",
    "\n",
    "RMSE is easier to interpret because it’s in the same units as the target variable.\n",
    "MSE might be used more in contexts where the squaring of errors is theoretically significant.\n",
    "Recommendation: RMSE is generally preferred due to its interpretability, especially when the difference between MSE and RMSE is negligible.\n",
    "\n",
    "\n",
    "#5. \n",
    "To measure how well the model explains the variance in the target variable, R-squared (Coefficient of Determination) is the most appropriate metric.\n",
    "\n",
    "R-squared tells you the proportion of the variance in the dependent variable that is predictable from the independent variables. It ranges from 0 to 1, with values closer to 1 indicating that the model explains a large proportion of the variance.\n",
    "Recommendation: Use R-squared to compare how well different models (with different kernels) explain the variance in the target variable."
   ]
  }
 ],
 "metadata": {
  "kernelspec": {
   "display_name": "Python 3 (ipykernel)",
   "language": "python",
   "name": "python3"
  },
  "language_info": {
   "codemirror_mode": {
    "name": "ipython",
    "version": 3
   },
   "file_extension": ".py",
   "mimetype": "text/x-python",
   "name": "python",
   "nbconvert_exporter": "python",
   "pygments_lexer": "ipython3",
   "version": "3.12.4"
  }
 },
 "nbformat": 4,
 "nbformat_minor": 5
}
