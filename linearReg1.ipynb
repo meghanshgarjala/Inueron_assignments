{
 "cells": [
  {
   "cell_type": "markdown",
   "id": "40b42391-43e5-4726-b889-aede8a05f5e0",
   "metadata": {},
   "source": [
    "Q1. Explain the difference between simple linear regression and multiple linear regression. Provide an\r\n",
    "example of each."
   ]
  },
  {
   "cell_type": "markdown",
   "id": "85d22d93-8cbe-4c57-b254-2b4b74b47197",
   "metadata": {},
   "source": [
    "#Simple Linear Regression:\n",
    "\n",
    "Definition: Simple linear regression models the relationship between a single independent variable (predictor) and a dependent variable (response).\n",
    "\n",
    "Equation: 𝑦=𝛽0 +𝛽1*𝑥+𝜖\n",
    "\n",
    "Example: Predicting a person's height based on their age.\n",
    "\n",
    "#Multiple Linear Regression:\n",
    "\n",
    "Definition: Multiple linear regression models the relationship between two or more independent variables and a dependent variable.\n",
    "\n",
    "Equation: 𝑦=𝛽0+𝛽1*𝑥1+𝛽2*𝑥2+…+𝛽𝑛*𝑥𝑛+𝜖\n",
    "\n",
    "Example: Predicting a person's height based on their age, weight, and gender."
   ]
  },
  {
   "cell_type": "markdown",
   "id": "5705f9c2-012f-4995-9ac1-43d037fbfcee",
   "metadata": {},
   "source": [
    "Q2. Discuss the assumptions of linear regression. How can you check whether these assumptions hold in\r\n",
    "a given dataset?"
   ]
  },
  {
   "cell_type": "markdown",
   "id": "46f71174-1305-41e9-bb3f-be6cbbe599b0",
   "metadata": {},
   "source": [
    "Linearity: The relationship between the predictors and the response is linear.\n",
    "\n",
    "Check: Plot residuals vs. fitted values.\n",
    "\n",
    "Independence: Observations are independent of each other.\n",
    "\n",
    "Check: Durbin-Watson test for autocorrelation.\n",
    "\n",
    "Homoscedasticity: The variance of residuals is constant across all levels of the independent variables.\n",
    "\n",
    "Check: Plot residuals vs. fitted values.\n",
    "\n",
    "Normality: Residuals of the model are normally distributed.\n",
    "\n",
    "Check: Q-Q plot or Shapiro-Wilk test.\n",
    "\n",
    "No Multicollinearity: Independent variables are not highly correlated.\n",
    "\n",
    "Check: Variance Inflation Factor (VIF)."
   ]
  },
  {
   "cell_type": "markdown",
   "id": "3d268f31-fe10-44f5-8877-c86f51db94e9",
   "metadata": {},
   "source": [
    "Q3. How do you interpret the slope and intercept in a linear regression model? Provide an example using\r\n",
    "a real-world scenario."
   ]
  },
  {
   "cell_type": "markdown",
   "id": "96cf1ecf-ae2d-4c42-94e2-73672d37b5d0",
   "metadata": {},
   "source": [
    "Intercept (𝛽0): The expected value of the dependent variable when all independent variables are zero.\n",
    "\n",
    "Slope (𝛽1): The change in the dependent variable for a one-unit change in the independent variable.\n",
    "\n",
    "Example:\n",
    "\n",
    "Scenario: Predicting house prices based on square footage.\n",
    "\n",
    "Model: Price=50000+200×SquareFootage\n",
    "\n",
    "Interpretation:\n",
    "\n",
    "Intercept (50000): A base price of $50,000.\n",
    "\n",
    "Slope (200): Each additional square foot adds $200 to the price."
   ]
  },
  {
   "cell_type": "markdown",
   "id": "50375b71-e9f7-4c48-a885-bf13ea3e1f26",
   "metadata": {},
   "source": [
    "Q4. Explain the concept of gradient descent. How is it used in machine learning?"
   ]
  },
  {
   "cell_type": "markdown",
   "id": "3408525b-0862-4e26-ae8f-379242584960",
   "metadata": {},
   "source": [
    "Gradient Descent:\n",
    "\n",
    "Definition: An optimization algorithm used to minimize the cost function in machine learning models.\n",
    "\n",
    "Usage: It iteratively adjusts the model parameters (coefficients) to reduce the difference between the predicted and actual values.\n",
    "\n",
    "Steps:\n",
    "\n",
    "Initialize parameters.\n",
    "\n",
    "Calculate the gradient of the cost function with respect to each parameter.\n",
    "\n",
    "Update parameters in the opposite direction of the gradient.\n",
    "\n",
    "Repeat until convergence."
   ]
  },
  {
   "cell_type": "markdown",
   "id": "92b6d67d-5b51-49cb-89c2-cadf54ff2995",
   "metadata": {},
   "source": [
    "Q5. Describe the multiple linear regression model. How does it differ from simple linear regression?"
   ]
  },
  {
   "cell_type": "markdown",
   "id": "b8be9417-d6ab-4e79-97e5-d168b9fe3dc1",
   "metadata": {},
   "source": [
    "#Simple Linear Regression:\n",
    "\n",
    "Definition: Simple linear regression models the relationship between a single independent variable (predictor) and a dependent variable (response).\n",
    "\n",
    "Equation: 𝑦=𝛽0 +𝛽1*𝑥+𝜖\n",
    "\n",
    "Example: Predicting a person's height based on their age.\n",
    "\n",
    "#Multiple Linear Regression:\n",
    "\n",
    "Definition: Multiple linear regression models the relationship between two or more independent variables and a dependent variable.\n",
    "\n",
    "Equation: 𝑦=𝛽0+𝛽1*𝑥1+𝛽2*𝑥2+…+𝛽𝑛*𝑥𝑛+𝜖\n",
    "\n",
    "Example: Predicting a person's height based on their age, weight, and gender."
   ]
  },
  {
   "cell_type": "markdown",
   "id": "e203917e-72ea-4fd1-86b4-c7a3e93a249c",
   "metadata": {},
   "source": [
    "Q6. Explain the concept of multicollinearity in multiple linear regression. How can you detect and\r\n",
    "address this issue?"
   ]
  },
  {
   "cell_type": "markdown",
   "id": "fa32d1f7-c5ad-4958-aed0-84c0bef8fb43",
   "metadata": {},
   "source": [
    "Multicollinearity occurs when two or more independent variables in a regression model are highly correlated, leading to unreliable estimates of regression coefficients.\n",
    "\n",
    "#Detection:\n",
    "\n",
    "Variance Inflation Factor (VIF): VIF values greater than 10 indicate high multicollinearity.\n",
    "\n",
    "Correlation Matrix: High correlation coefficients between independent variables.\n",
    "\n",
    "#Addressing:\n",
    "\n",
    "Remove Variables: Eliminate highly correlated predictors.\n",
    "\n",
    "Combine Variables: Use principal component analysis (PCA) to combine correlated variables.\n",
    "\n",
    "Regularization: Apply techniques like Ridge or Lasso regression."
   ]
  },
  {
   "cell_type": "markdown",
   "id": "e9519352-b156-4666-b47d-53ffe714fee2",
   "metadata": {},
   "source": [
    "Q7. Describe the polynomial regression model. How is it different from linear regression?"
   ]
  },
  {
   "cell_type": "markdown",
   "id": "1507be56-4e21-4d31-aa6a-f0d3bdcffa13",
   "metadata": {},
   "source": [
    "Definition:\n",
    "\n",
    "Polynomial Regression models the relationship between the dependent variable and independent variables as an nth degree polynomial.\n",
    "\n",
    "Equation: 𝑦=𝛽0+𝛽1*𝑥+𝛽2*𝑥^2+…+𝛽𝑛*𝑥^𝑛+𝜖\n",
    "\n",
    "Difference from Linear Regression:\n",
    "\n",
    "Polynomial regression includes higher-order terms (squared, cubed, etc.) of the independent variables to capture non-linear relationships."
   ]
  },
  {
   "cell_type": "markdown",
   "id": "5a1056cc-568c-4ba3-9af7-358a6e834683",
   "metadata": {},
   "source": [
    "Q8. What are the advantages and disadvantages of polynomial regression compared to linear\r\n",
    "regression? In what situations would you prefer to use polynomial regression?"
   ]
  },
  {
   "cell_type": "markdown",
   "id": "4609d997-85ae-4ca4-88d4-8ac74ce9ca73",
   "metadata": {},
   "source": [
    "#Advantages:\n",
    "\n",
    "Captures Non-Linearity: Better fits data with non-linear relationships.\n",
    "\n",
    "Flexibility: Can model a wide variety of data patterns.\n",
    "\n",
    "#Disadvantages:\n",
    "\n",
    "Overfitting: High-degree polynomials can fit the noise in the data.\n",
    "\n",
    "Complexity: Increased computational complexity and harder interpretation.\n",
    "\n",
    "#When to Prefer Polynomial Regression:\n",
    "\n",
    "Use polynomial regression when the relationship between the independent and dependent variables is non-linear and cannot be captured by a simple linear model."
   ]
  },
  {
   "cell_type": "markdown",
   "id": "9871c3e1-5784-49fc-a5e8-e170ee5ecd9d",
   "metadata": {},
   "source": []
  },
  {
   "cell_type": "markdown",
   "id": "64239466-bd7c-445b-a7bf-59b59aabcf86",
   "metadata": {},
   "source": []
  }
 ],
 "metadata": {
  "kernelspec": {
   "display_name": "Python 3 (ipykernel)",
   "language": "python",
   "name": "python3"
  },
  "language_info": {
   "codemirror_mode": {
    "name": "ipython",
    "version": 3
   },
   "file_extension": ".py",
   "mimetype": "text/x-python",
   "name": "python",
   "nbconvert_exporter": "python",
   "pygments_lexer": "ipython3",
   "version": "3.11.7"
  }
 },
 "nbformat": 4,
 "nbformat_minor": 5
}
