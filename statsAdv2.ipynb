{
 "cells": [
  {
   "cell_type": "markdown",
   "id": "db48b77c-b2fa-4ebc-9050-6321c340dea8",
   "metadata": {},
   "source": [
    "Q1: What are the Probability Mass Function (PMF) and Probability Density Function (PDF)? Explain with\n",
    "an example."
   ]
  },
  {
   "cell_type": "markdown",
   "id": "aea32c63-f15e-410d-adc4-27d7a626f77d",
   "metadata": {},
   "source": [
    "Probability Mass Function (PMF):\n",
    "The PMF is a function that gives the probability that a discrete random variable is exactly equal to some value. It is used for discrete random variables.\n",
    "\n",
    "Example:\n",
    "Consider a fair six-sided die. The PMF for rolling a specific number x (where x can be 1, 2, 3, 4, 5, or 6) is:\n",
    "𝑃(𝑋=𝑥)=1/6\n",
    "for 𝑥=1,2,3,4,5,6\n",
    "\n",
    "Probability Density Function (PDF):\n",
    "The PDF is a function that describes the likelihood of a continuous random variable to take on a given value. The probability of the variable falling within a particular range of values is given by the integral of this variable's PDF over that range.\n",
    "\n",
    "For a normal distribution with mean 𝜇 and standard deviation 𝜎, the PDF is given by:\n",
    "f(x) = (1/σ√(2π)) e^(-((x-μ)^2)/(2σ^2))"
   ]
  },
  {
   "cell_type": "markdown",
   "id": "3c5936a8-1c67-495c-9732-6415a26ceb59",
   "metadata": {},
   "source": [
    "Q2: What is Cumulative Density Function (CDF)? Explain with an example. Why CDF is used?"
   ]
  },
  {
   "cell_type": "markdown",
   "id": "53a3d198-a1af-46cf-8d3d-a25f2ecc4493",
   "metadata": {},
   "source": [
    "Cumulative Density Function (CDF):\n",
    "The CDF of a random variable X is the function that gives the probability that X will take a value less than or equal to x. It is used to describe the distribution of random variables.\n",
    "\n",
    "Example:\n",
    "For a discrete random variable representing the roll of a six-sided die, the CDF at value \n",
    "𝑥 is: 𝐹(𝑥)=𝑃(𝑋≤𝑥) So, 𝐹(3) would be the probability of rolling a 1, 2, or 3, which is 3/6=0.5 \n",
    "\n",
    "CDF is used because it provides a complete description of the probability distribution of a random variable. It is particularly useful for calculating probabilities of intervals and for working with non-standard distributions."
   ]
  },
  {
   "cell_type": "markdown",
   "id": "d3548d40-a1e9-445a-84d2-6070e6a80058",
   "metadata": {},
   "source": [
    "Q3: What are some examples of situations where the normal distribution might be used as a model?\n",
    "Explain how the parameters of the normal distribution relate to the shape of the distribution."
   ]
  },
  {
   "cell_type": "markdown",
   "id": "85d6b594-3998-4fca-ae1e-b37b25283cb6",
   "metadata": {},
   "source": [
    "Examples of situations where the normal distribution might be used include:\n",
    "\n",
    "1)Heights of people.\n",
    "\n",
    "2)Test scores in a large population.\n",
    "\n",
    "3)Measurement errors in scientific experiments.\n",
    "\n",
    "Parameters of the normal distribution:\n",
    "\n",
    "Mean (μ): Determines the center of the distribution. It is the peak of the bell curve.\n",
    "\n",
    "Standard deviation (σ): Measures the spread or dispersion of the distribution. A smaller σ results in a steeper bell curve, while a larger σ results in a wider bell curve."
   ]
  },
  {
   "cell_type": "markdown",
   "id": "03b611ee-827d-449c-84d1-a0a08d0b23d5",
   "metadata": {},
   "source": [
    "Q4: Explain the importance of Normal Distribution. Give a few real-life examples of Normal\n",
    "Distribution."
   ]
  },
  {
   "cell_type": "markdown",
   "id": "0d40ccf4-8b9e-44ae-99b2-21f1f0e9f0a1",
   "metadata": {},
   "source": [
    "Importance of Normal Distribution:\n",
    "\n",
    "It appears frequently in nature and human activities.\n",
    "Many statistical methods assume normality.\n",
    "The Central Limit Theorem indicates that the sum of a large number of independent random variables tends to be normally distributed.\n",
    "Real-life examples:\n",
    "\n",
    "1)Heights of individuals.\n",
    "\n",
    "2)IQ scores.\n",
    "\n",
    "3)Blood pressure measurements."
   ]
  },
  {
   "cell_type": "markdown",
   "id": "30cda9ef-61fd-4f99-ba72-0baf5d9b07e7",
   "metadata": {},
   "source": [
    "Q5: What is Bernaulli Distribution? Give an Example. What is the difference between Bernoulli\n",
    "Distribution and Binomial Distribution?"
   ]
  },
  {
   "cell_type": "markdown",
   "id": "15240e8e-3bb6-4c03-b111-e61040f9e61a",
   "metadata": {},
   "source": [
    "Bernoulli Distribution:\n",
    "\n",
    "The Bernoulli distribution is the probability distribution of a random variable which takes the value 1 with probability \n",
    "𝑝 and the value 0 with probability 1 − 𝑝\n",
    "\n",
    "Example:\n",
    "Flipping a coin, where 𝑝 is the probability of getting heads.\n",
    "\n",
    "Difference between Bernoulli and Binomial Distribution:\n",
    "\n",
    "Bernoulli distribution describes a single trial with two possible outcomes.\n",
    "Binomial distribution describes the number of successes in a fixed number of independent Bernoulli trials."
   ]
  },
  {
   "cell_type": "markdown",
   "id": "9cc35bcf-c5c7-45c8-9c2f-389441ebd23f",
   "metadata": {},
   "source": [
    "Q6. Consider a dataset with a mean of 50 and a standard deviation of 10. If we assume that the dataset\n",
    "is normally distributed, what is the probability that a randomly selected observation will be greater\n",
    "than 60? Use the appropriate formula and show your calculations."
   ]
  },
  {
   "cell_type": "markdown",
   "id": "537a1bd4-fa48-4f92-b3c3-66581dd32415",
   "metadata": {},
   "source": [
    "To find this probability, we use the Z-score formula:\n",
    "\n",
    "Z-score = (X - μ) / σ\n",
    "\n",
    "Where:\n",
    "\n",
    "X is the raw score or value(60 in this case)\n",
    "μ is the population mean(50)\n",
    "σ is the population standard deviation(10)\n",
    "\n",
    "Z=(60-50)/10=1\n",
    "\n",
    "Using standard normal distribution tables or a calculator, the probability of Z being less than 1 is approximately 0.8413. Therefore, the probability of the value being greater than 60 is:\n",
    "1−0.8413=0.1587"
   ]
  },
  {
   "cell_type": "markdown",
   "id": "66b75044-886b-45a0-8dab-c1db57162404",
   "metadata": {},
   "source": [
    "Q7: Explain uniform Distribution with an example."
   ]
  },
  {
   "cell_type": "markdown",
   "id": "098847db-612f-4609-a208-6c6df305f058",
   "metadata": {},
   "source": [
    "Uniform Distribution:\n",
    "A uniform distribution is a type of probability distribution in which all outcomes are equally likely.\n",
    "\n",
    "Example:\n",
    "Rolling a fair six-sided die. Each outcome (1, 2, 3, 4, 5, 6) has an equal probability of 1/6."
   ]
  },
  {
   "cell_type": "markdown",
   "id": "11e47905-2a1d-4bbb-8fd2-ebd8909039b9",
   "metadata": {},
   "source": [
    "Q8: What is the z score? State the importance of the z score."
   ]
  },
  {
   "cell_type": "markdown",
   "id": "873289b0-f68d-4b16-9049-83681d68f0e0",
   "metadata": {},
   "source": [
    "The Z-score measures how many standard deviations an element is from the mean of the distribution. It is calculated as:\n",
    "\n",
    "Z-score = (X - μ) / σ\n",
    "\n",
    "Importance:\n",
    "\n",
    "1)Standardizes different data points to a common scale.\n",
    "\n",
    "2)Helps identify outliers.\n",
    "\n",
    "3)Useful in comparing scores from different distributions."
   ]
  },
  {
   "cell_type": "markdown",
   "id": "88db3c8c-88ca-41ab-a3ed-a5ddbd379a7e",
   "metadata": {},
   "source": [
    "Q9: What is Central Limit Theorem? State the significance of the Central Limit Theorem."
   ]
  },
  {
   "cell_type": "markdown",
   "id": "9ba2608e-4f3d-4876-a833-7bee1cf3f4de",
   "metadata": {},
   "source": [
    "Central Limit Theorem (CLT):\n",
    "\n",
    "The CLT states that the sampling distribution of the sample mean will tend to be normal or nearly normal if the sample size is large enough, regardless of the shape of the population distribution.\n",
    "\n",
    "Significance:\n",
    "\n",
    "Enables inference about population parameters using sample statistics.\n",
    "\n",
    "Forms the basis for many statistical procedures and hypothesis tests."
   ]
  },
  {
   "cell_type": "markdown",
   "id": "69b2f2c7-f92e-45de-9ff0-fdeac36cae1c",
   "metadata": {},
   "source": [
    "Q10: State the assumptions of the Central Limit Theorem."
   ]
  },
  {
   "cell_type": "markdown",
   "id": "3de85768-0907-4d95-aec3-92f33affb1e7",
   "metadata": {},
   "source": [
    "Assumptions of the CLT:\n",
    "\n",
    "Independence: Sampled observations must be independent.\n",
    "\n",
    "Sample Size: Sample size should be sufficiently large (common rule of thumb is n > 30).\n",
    "\n",
    "Random Sampling: Samples should be randomly selected from the population.\n",
    "\n",
    "Finite Variance: The population should have a finite variance."
   ]
  }
 ],
 "metadata": {
  "kernelspec": {
   "display_name": "Python 3 (ipykernel)",
   "language": "python",
   "name": "python3"
  },
  "language_info": {
   "codemirror_mode": {
    "name": "ipython",
    "version": 3
   },
   "file_extension": ".py",
   "mimetype": "text/x-python",
   "name": "python",
   "nbconvert_exporter": "python",
   "pygments_lexer": "ipython3",
   "version": "3.11.7"
  }
 },
 "nbformat": 4,
 "nbformat_minor": 5
}
