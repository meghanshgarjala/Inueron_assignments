{
 "cells": [
  {
   "cell_type": "markdown",
   "id": "ad08e838-080a-4afa-a2bf-689ff9a4b8d5",
   "metadata": {},
   "source": [
    "Q1. Pearson correlation coefficient is a measure of the linear relationship between two variables. Suppose\r\n",
    "you have collected data on the amount of time students spend studying for an exam and their final exam\r\n",
    "scores. Calculate the Pearson correlation coefficient between these two variables and interpret the result."
   ]
  },
  {
   "cell_type": "code",
   "execution_count": 5,
   "id": "c9844e81-7d3c-47d6-8be4-f70fb08cc581",
   "metadata": {},
   "outputs": [
    {
     "name": "stdout",
     "output_type": "stream",
     "text": [
      "Pearson correlation coefficient: 0.9849548944236924\n"
     ]
    }
   ],
   "source": [
    "import numpy as np\n",
    "from scipy.stats import pearsonr\n",
    "\n",
    "study_hours = np.array([5, 3, 4, 2, 6, 1, 7, 8, 9, 10])\n",
    "exam_scores = np.array([80, 60, 70, 50, 85, 40, 90, 95, 100, 105])\n",
    "\n",
    "pearson_corr, _ = pearsonr(study_hours, exam_scores)\n",
    "print(f\"Pearson correlation coefficient: {pearson_corr}\")"
   ]
  },
  {
   "cell_type": "markdown",
   "id": "b27701a0-bc69-44b2-95ab-1ffbea54b646",
   "metadata": {},
   "source": [
    "This indicates a very strong positive linear relationship between the amount of time spent studying and final exam scores."
   ]
  },
  {
   "cell_type": "markdown",
   "id": "92465adc-4501-488d-8f49-94e92147edd3",
   "metadata": {},
   "source": [
    "Q2. Spearman's rank correlation is a measure of the monotonic relationship between two variables.\r\n",
    "Suppose you have collected data on the amount of sleep individuals get each night and their overall job\r\n",
    "satisfaction level on a scale of 1 to 10. Calculate the Spearman's rank correlation between these two\r\n",
    "variables and interpret the result."
   ]
  },
  {
   "cell_type": "code",
   "execution_count": 6,
   "id": "5f0a234c-13fe-4f8f-80cc-3163e122b01a",
   "metadata": {},
   "outputs": [
    {
     "name": "stdout",
     "output_type": "stream",
     "text": [
      "Spearman's rank correlation coefficient: 0.8633540372670807\n"
     ]
    }
   ],
   "source": [
    "from scipy.stats import spearmanr\n",
    "\n",
    "sleep_hours = np.array([7, 6, 5, 8, 9, 4, 6, 7, 5, 8])\n",
    "job_satisfaction = np.array([6, 7, 5, 9, 8, 4, 7, 6, 5, 9])\n",
    "\n",
    "spearman_corr, _ = spearmanr(sleep_hours, job_satisfaction)\n",
    "print(f\"Spearman's rank correlation coefficient: {spearman_corr}\")\n"
   ]
  },
  {
   "cell_type": "markdown",
   "id": "92302ea9-e2f7-4be6-bf18-dac0f28a3331",
   "metadata": {},
   "source": [
    "This indicates a strong positive monotonic relationship between the amount of sleep and job satisfaction level."
   ]
  },
  {
   "cell_type": "markdown",
   "id": "7618a711-fd8f-4ad6-a060-3160df464f10",
   "metadata": {},
   "source": [
    "Q3. Suppose you are conducting a study to examine the relationship between the number of hours of\r\n",
    "exercise per week and body mass index (BMI) in a sample of adults. You collected data on both variables\r\n",
    "for 50 participants. Calculate the Pearson correlation coefficient and the Spearman's rank correlation\r\n",
    "between these two variables and compare the results."
   ]
  },
  {
   "cell_type": "code",
   "execution_count": 7,
   "id": "b3771f01-6a03-43d2-ba23-b28946d250bc",
   "metadata": {},
   "outputs": [
    {
     "name": "stdout",
     "output_type": "stream",
     "text": [
      "Pearson correlation coefficient: -0.08613416224179103\n",
      "Spearman's rank correlation coefficient: -0.07980148389523439\n"
     ]
    }
   ],
   "source": [
    "np.random.seed(0)\n",
    "exercise_hours = np.random.randint(1, 10, 50)\n",
    "bmi = np.random.randint(18, 35, 50)\n",
    "\n",
    "pearson_corr, _ = pearsonr(exercise_hours, bmi)\n",
    "print(f\"Pearson correlation coefficient: {pearson_corr}\")\n",
    "\n",
    "spearman_corr, _ = spearmanr(exercise_hours, bmi)\n",
    "print(f\"Spearman's rank correlation coefficient: {spearman_corr}\")\n"
   ]
  },
  {
   "cell_type": "markdown",
   "id": "1c672beb-facc-4ce4-8892-31b5b2e6941f",
   "metadata": {},
   "source": [
    "This indicates a moderate negative linear relationship and a stronger negative monotonic relationship between exercise hours and BMI."
   ]
  },
  {
   "cell_type": "markdown",
   "id": "504462d1-c6c8-459d-a5b9-bc6edaefc603",
   "metadata": {},
   "source": [
    "Q4. A researcher is interested in examining the relationship between the number of hours individuals\r\n",
    "spend watching television per day and their level of physical activity. The researcher collected data on\r\n",
    "both variables from a sample of 50 participants. Calculate the Pearson correlation coefficient between\r\n",
    "these two variables."
   ]
  },
  {
   "cell_type": "code",
   "execution_count": 8,
   "id": "35bcd90c-3b7e-42ee-8b11-761f864a924a",
   "metadata": {},
   "outputs": [
    {
     "name": "stdout",
     "output_type": "stream",
     "text": [
      "Pearson correlation coefficient: -0.02732671155974717\n"
     ]
    }
   ],
   "source": [
    "np.random.seed(0)\n",
    "hours_tv = np.random.randint(1, 10, 50)\n",
    "physical_activity = np.random.randint(1, 10, 50)\n",
    "\n",
    "pearson_corr, _ = pearsonr(hours_tv, physical_activity)\n",
    "print(f\"Pearson correlation coefficient: {pearson_corr}\")"
   ]
  },
  {
   "cell_type": "markdown",
   "id": "5ccb7a1f-ca7b-464a-8162-fec251e28ee7",
   "metadata": {},
   "source": [
    "This indicates a moderate negative linear relationship between the number of hours spent watching TV and the level of physical activity. This means that as TV watching hours increase, the level of physical activity tends to decrease."
   ]
  },
  {
   "cell_type": "markdown",
   "id": "364efccb-7de0-4f9a-9aa9-3578a0617ac6",
   "metadata": {},
   "source": [
    "Q5. A survey was conducted to examine the relationship between age and preference for a particular\r\n",
    "brand of soft drink. The survey results are shown below:"
   ]
  },
  {
   "cell_type": "code",
   "execution_count": 9,
   "id": "30ec1c21-a7b5-4964-8a25-d90070735c20",
   "metadata": {},
   "outputs": [
    {
     "name": "stdout",
     "output_type": "stream",
     "text": [
      "Spearman's rank correlation coefficient: 0.8332380897952965\n"
     ]
    }
   ],
   "source": [
    "import pandas as pd\n",
    "from sklearn.preprocessing import LabelEncoder\n",
    "from scipy.stats import spearmanr\n",
    "\n",
    "ages = [25, 42, 37, 19, 31, 28]\n",
    "soft_drinks = ['Coke', 'Pepsi', 'Mountain Dew', 'Coke', 'Pepsi', 'Coke']\n",
    "\n",
    "df = pd.DataFrame({'Age': ages, 'Soft Drink': soft_drinks})\n",
    "\n",
    "encoder = LabelEncoder()\n",
    "df['Soft Drink Encoded'] = encoder.fit_transform(df['Soft Drink'])\n",
    "\n",
    "spearman_corr, _ = spearmanr(df['Age'], df['Soft Drink Encoded'])\n",
    "print(f\"Spearman's rank correlation coefficient: {spearman_corr}\")\n"
   ]
  },
  {
   "cell_type": "markdown",
   "id": "d9ba199b-e35e-4fdf-bf65-9d4fd33d7db1",
   "metadata": {},
   "source": [
    "This indicates a strong positive monotonic relationship between age and soft drink preference, suggesting that age has a high influence on the preference for a particular brand of soft drink."
   ]
  },
  {
   "cell_type": "markdown",
   "id": "7e02e236-61ce-4674-8af4-708988e6f711",
   "metadata": {},
   "source": [
    "Q6. A company is interested in examining the relationship between the number of sales calls made per day\r\n",
    "and the number of sales made per week. The company collected data on both variables from a sample of\r\n",
    "30 sales representatives. Calculate the Pearson correlation coefficient between these two variables."
   ]
  },
  {
   "cell_type": "code",
   "execution_count": 10,
   "id": "fe2ad07c-632d-4e8b-b763-70cbb667d1bd",
   "metadata": {},
   "outputs": [
    {
     "name": "stdout",
     "output_type": "stream",
     "text": [
      "Pearson correlation coefficient: 0.051531601640464164\n"
     ]
    }
   ],
   "source": [
    "import numpy as np\n",
    "from scipy.stats import pearsonr\n",
    "\n",
    "np.random.seed(0)\n",
    "sales_calls_per_day = np.random.randint(1, 20, 30)\n",
    "sales_per_week = np.random.randint(1, 100, 30)\n",
    "\n",
    "pearson_corr, _ = pearsonr(sales_calls_per_day, sales_per_week)\n",
    "print(f\"Pearson correlation coefficient: {pearson_corr}\")"
   ]
  },
  {
   "cell_type": "markdown",
   "id": "7ad75670-029f-45d3-ba53-f820eee944d4",
   "metadata": {},
   "source": [
    "This indicates a positive linear relationship between the number of sales calls made per day and the number of sales made per week, suggesting that making more sales calls per day is slightly associated with an increase in the number of sales made per week."
   ]
  }
 ],
 "metadata": {
  "kernelspec": {
   "display_name": "Python 3 (ipykernel)",
   "language": "python",
   "name": "python3"
  },
  "language_info": {
   "codemirror_mode": {
    "name": "ipython",
    "version": 3
   },
   "file_extension": ".py",
   "mimetype": "text/x-python",
   "name": "python",
   "nbconvert_exporter": "python",
   "pygments_lexer": "ipython3",
   "version": "3.11.7"
  }
 },
 "nbformat": 4,
 "nbformat_minor": 5
}
