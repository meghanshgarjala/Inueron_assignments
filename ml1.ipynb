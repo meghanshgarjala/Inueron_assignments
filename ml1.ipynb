{
 "cells": [
  {
   "cell_type": "markdown",
   "id": "c836667b-bd89-4b3b-bc6e-dcdcbd74ebb8",
   "metadata": {},
   "source": [
    "Q1. Explain the following with an example:\n",
    "a) Artificial Intelligence (AI)\n",
    "b) Machine Learning (ML)\n",
    "c) Deep Learning (DL)"
   ]
  },
  {
   "cell_type": "markdown",
   "id": "b7a75dd9-a76e-4bdc-ad16-94188eccbb17",
   "metadata": {},
   "source": [
    "a) Artificial Intelligence (AI)\n",
    "\n",
    "Artificial Intelligence refers to the simulation of human intelligence in machines that are programmed to think and learn. These machines can perform tasks that typically require human intelligence such as visual perception, speech recognition, decision-making, and language translation.\n",
    "\n",
    "Example: A chatbot that uses natural language processing to understand and respond to customer inquiries.\n",
    "\n",
    "b) Machine Learning (ML)\n",
    "\n",
    "Machine Learning is a subset of AI that focuses on the development of algorithms that allow computers to learn from and make predictions based on data. These algorithms improve their performance as they are exposed to more data over time.\n",
    "\n",
    "Example: A spam filter that learns to recognize spam emails by analyzing large amounts of email data and identifying patterns.\n",
    "\n",
    "c) Deep Learning (DL)\n",
    "\n",
    "Deep Learning is a subset of ML that uses neural networks with many layers (hence \"deep\") to analyze various factors of data. It is particularly effective for large sets of unstructured data such as images, audio, and text.\n",
    "\n",
    "Example: A facial recognition system that identifies individuals in photos by learning from a large dataset of labeled images."
   ]
  },
  {
   "cell_type": "markdown",
   "id": "1af30bf7-d235-4c70-8a4e-5b39d0a26a69",
   "metadata": {},
   "source": [
    "Q2. What is supervised learning? List some examples of supervised learning."
   ]
  },
  {
   "cell_type": "markdown",
   "id": "969f4eaf-65cc-488f-8ca1-2372e267db3d",
   "metadata": {},
   "source": [
    "Supervised learning is a type of machine learning where the model is trained on a labeled dataset. This means that each training example is paired with an output label. The goal is for the model to learn to map inputs to the correct output.\n",
    "\n",
    "Examples:\n",
    "\n",
    "Classification: Email spam detection, where the emails are labeled as 'spam' or 'not spam'.\n",
    "\n",
    "Regression: Predicting house prices based on features like size, location, and number of bedrooms.\n",
    "\n",
    "Object Detection: Identifying and classifying objects within an image."
   ]
  },
  {
   "cell_type": "markdown",
   "id": "89eec549-32b8-49b4-8201-a9cab3829ac0",
   "metadata": {},
   "source": [
    "Q3. What is unsupervised learning? List some examples of unsupervised learning."
   ]
  },
  {
   "cell_type": "markdown",
   "id": "379b125f-231a-4a14-938d-03c069217364",
   "metadata": {},
   "source": [
    "Unsupervised learning is a type of machine learning where the model is trained on data without labeled responses. The goal is to find hidden patterns or intrinsic structures in the input data.\n",
    "\n",
    "Examples:\n",
    "\n",
    "Clustering: Grouping customers into different segments based on purchasing behavior.\n",
    "\n",
    "Anomaly Detection: Identifying unusual patterns in network traffic that could indicate a cyber attack.\n",
    "\n",
    "Dimensionality Reduction: Reducing the number of random variables under consideration, such as in principal component analysis (PCA)."
   ]
  },
  {
   "cell_type": "markdown",
   "id": "8cf5e20e-a749-4b37-9bec-742be5d3e991",
   "metadata": {},
   "source": [
    "Q4. What is the difference between AI, ML, DL, and DS?"
   ]
  },
  {
   "cell_type": "markdown",
   "id": "d94f36cf-b56d-4f3c-9225-e69d734c68b8",
   "metadata": {},
   "source": [
    "Artificial Intelligence (AI): The broader concept of machines being able to carry out tasks in a way that we would consider “smart”. It encompasses both ML and DL.\n",
    "\n",
    "Machine Learning (ML): A subset of AI that involves the study of algorithms and statistical models that computers use to perform tasks without explicit instructions, relying on patterns and inference.\n",
    "\n",
    "Deep Learning (DL): A subset of ML that uses neural networks with many layers. It is particularly powerful for tasks such as image and speech recognition.\n",
    "\n",
    "Data Science (DS): An interdisciplinary field that uses scientific methods, processes, algorithms, and systems to extract knowledge and insights from structured and unstructured data. It often incorporates elements of AI, ML, and DL."
   ]
  },
  {
   "cell_type": "markdown",
   "id": "61bb2d66-0ca1-4320-a3d0-6ce3140003c4",
   "metadata": {},
   "source": [
    "Q5. What are the main differences between supervised, unsupervised, and semi-supervised learning?"
   ]
  },
  {
   "cell_type": "markdown",
   "id": "867d008a-dcc7-4442-a0a1-ee5c0244b547",
   "metadata": {},
   "source": [
    "Supervised Learning: Uses labeled data to train the model, which means each training example is paired with an output label. Example: Predicting housing prices.\n",
    "\n",
    "Unsupervised Learning: Uses unlabeled data to train the model. The goal is to identify patterns and relationships in the data. Example: Customer segmentation.\n",
    "\n",
    "Semi-Supervised Learning: Uses a small amount of labeled data and a large amount of unlabeled data. It is used to improve learning accuracy when labeling data is expensive or time-consuming. Example: Webpage classification with a few labeled examples and many unlabeled pages."
   ]
  },
  {
   "cell_type": "markdown",
   "id": "c153a25f-48f6-47af-94e9-6101d99b27d0",
   "metadata": {},
   "source": [
    "Q6. What is train, test and validation split? Explain the importance of each term."
   ]
  },
  {
   "cell_type": "markdown",
   "id": "ab6ff0b5-56d3-4b02-9a5c-2d85448fdbf8",
   "metadata": {},
   "source": [
    "Training Set: The portion of the dataset used to train the model. The model learns the patterns in the data from this set.\n",
    "\n",
    "Validation Set: A subset of the dataset used to tune the model's hyperparameters and provide an unbiased evaluation of the model fit on the training dataset.\n",
    "\n",
    "Test Set: The portion of the dataset used to evaluate the performance of the final model. This set is used to check how well the model generalizes to new, unseen data.\n",
    "\n",
    "Importance:\n",
    "\n",
    "Training Set: Enables the model to learn from the data.\n",
    "\n",
    "Validation Set: Helps in model selection and hyperparameter tuning.\n",
    "\n",
    "Test Set: Provides a final unbiased evaluation of the model's performance."
   ]
  },
  {
   "cell_type": "markdown",
   "id": "1ecce506-1766-4072-a9de-aeb2ca50cf1f",
   "metadata": {},
   "source": [
    "Q7. How can unsupervised learning be used in anomaly detection?"
   ]
  },
  {
   "cell_type": "markdown",
   "id": "cc97a2c8-7beb-414f-a100-bccf6bf931bc",
   "metadata": {},
   "source": [
    "Unsupervised learning can identify patterns and structures in data without prior labels. In anomaly detection, the algorithm learns the normal behavior of the system and identifies deviations from this norm as anomalies.\n",
    "\n",
    "Example: In network security, an unsupervised learning algorithm can be trained on normal network traffic data. Any significant deviation from this learned pattern could indicate a potential security threat or anomaly."
   ]
  },
  {
   "cell_type": "markdown",
   "id": "b2cec95d-e04d-41d2-953d-15acf3729774",
   "metadata": {},
   "source": [
    "Q8. List down some commonly used supervised learning algorithms and unsupervised learning algorithms."
   ]
  },
  {
   "cell_type": "markdown",
   "id": "b5580ee7-b068-4ca8-a88b-992d5f1347ff",
   "metadata": {},
   "source": [
    "#Supervised Learning Algorithms:\n",
    "\n",
    "Linear Regression: Used for regression tasks.\n",
    "\n",
    "Logistic Regression: Used for binary classification tasks\n",
    ".\n",
    "Support Vector Machines (SVM): Used for classification and regression tasks.\n",
    "\n",
    "Decision Trees: Used for classification and regression tasks.\n",
    "\n",
    "Random Forest: An ensemble method used for classification and regression tasks.\n",
    "\n",
    "#Unsupervised Learning Algorithms:\n",
    "\n",
    "K-Means Clustering: Used for clustering tasks.\n",
    "\n",
    "Hierarchical Clustering: Used for clustering tasks.\n",
    "\n",
    "Principal Component Analysis (PCA): Used for dimensionality reduction.\n",
    "\n",
    "Autoencoders: Used for anomaly detection and feature learning.\n",
    "\n",
    "Apriori Algorithm: Used for market basket analysis and association rule learning."
   ]
  }
 ],
 "metadata": {
  "kernelspec": {
   "display_name": "Python 3 (ipykernel)",
   "language": "python",
   "name": "python3"
  },
  "language_info": {
   "codemirror_mode": {
    "name": "ipython",
    "version": 3
   },
   "file_extension": ".py",
   "mimetype": "text/x-python",
   "name": "python",
   "nbconvert_exporter": "python",
   "pygments_lexer": "ipython3",
   "version": "3.11.7"
  }
 },
 "nbformat": 4,
 "nbformat_minor": 5
}
