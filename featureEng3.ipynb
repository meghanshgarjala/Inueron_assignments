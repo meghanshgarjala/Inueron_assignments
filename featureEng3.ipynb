{
 "cells": [
  {
   "cell_type": "markdown",
   "id": "16a21917-a735-455d-b199-ee55ed00eb5d",
   "metadata": {},
   "source": [
    "Q1. What is data encoding? How is it useful in data science?"
   ]
  },
  {
   "cell_type": "markdown",
   "id": "f7073df5-848d-4348-9c3e-669cea650859",
   "metadata": {},
   "source": [
    "Data encoding refers to the process of converting categorical data into numerical format so that machine learning algorithms can interpret and process it. This transformation is crucial because most machine learning models require numerical input. Encoding ensures that categorical variables can be included in models effectively, preserving the underlying information and relationships."
   ]
  },
  {
   "cell_type": "markdown",
   "id": "1b6169d8-aaa4-4407-93a9-abbeec69dad9",
   "metadata": {},
   "source": [
    "Q2. What is nominal encoding? Provide an example of how you would use it in a real-world scenario."
   ]
  },
  {
   "cell_type": "markdown",
   "id": "521b27a6-4e58-4efb-86a3-0d20db65c2a9",
   "metadata": {},
   "source": [
    "Nominal encoding, also known as label encoding, assigns a unique integer to each category in a categorical variable without implying any order. It's useful for categorical variables where the order does not matter.\n",
    "\n",
    "Example:\n",
    "\n",
    "Consider a dataset of car types with a feature \"Car Type\" having categories: Sedan, SUV, and Coupe. Nominal encoding would assign:\n",
    "\n",
    "Sedan: 0\n",
    "\n",
    "SUV: 1\n",
    "\n",
    "Coupe: 2\n",
    "\n",
    "Real-World Scenario:\n",
    "\n",
    "In a car rental service dataset, you may have a \"Car Type\" feature that needs to be encoded for a machine learning model predicting rental prices. Using nominal encoding, you convert \"Car Type\" to numerical values."
   ]
  },
  {
   "cell_type": "markdown",
   "id": "d50f1aae-63be-4879-a8f4-a98199ba9ffb",
   "metadata": {},
   "source": [
    "Q3. In what situations is nominal encoding preferred over one-hot encoding? Provide a practical example."
   ]
  },
  {
   "cell_type": "markdown",
   "id": "2ba23117-078e-4fc9-a47f-86155362d193",
   "metadata": {},
   "source": [
    "Nominal encoding is preferred when:\n",
    "\n",
    "Low Cardinality: The categorical variable has a small number of categories.\n",
    "\n",
    "Tree-Based Models: Models like decision trees and random forests can handle nominally encoded data well.\n",
    "\n",
    "Memory Efficiency: One-hot encoding can create a large number of columns for high cardinality data, leading to increased memory usage.\n",
    "\n",
    "Practical Example:\n",
    "\n",
    "In a dataset predicting house prices, suppose there's a feature \"Region\" with categories: North, South, East, and West. If you have a tree-based model and want to conserve memory, you might use nominal encoding:\n",
    "\n",
    "North: 0\n",
    "\n",
    "South: 1\n",
    "\n",
    "East: 2\n",
    "\n",
    "West: 3"
   ]
  },
  {
   "cell_type": "markdown",
   "id": "66b547bd-129a-42cc-a816-5e80b0f90c8f",
   "metadata": {},
   "source": [
    "Q4. Suppose you have a dataset containing categorical data with 5 unique values. Which encoding\r\n",
    "technique would you use to transform this data into a format suitable for machine learning algorithms?\r\n",
    "Explain why you made this choice."
   ]
  },
  {
   "cell_type": "markdown",
   "id": "5dd2e4ec-226e-4c3a-9801-80903ef29f24",
   "metadata": {},
   "source": [
    "The choice of encoding technique depends on the nature of the categorical data and the machine learning algorithm being used. If the data has 5 unique values and no inherent order, one-hot encoding is a good choice for most machine learning algorithms, as it avoids introducing spurious ordinal relationships.\n",
    "\n",
    "Reason:\n",
    "\n",
    "One-hot encoding represents each category as a separate binary feature, ensuring that the model does not assume any ordinal relationship between categories."
   ]
  },
  {
   "cell_type": "markdown",
   "id": "15628998-dafa-4d7c-8202-fce99c076d65",
   "metadata": {},
   "source": [
    "Q5. In a machine learning project, you have a dataset with 1000 rows and 5 columns. Two of the columns\r\n",
    "are categorical, and the remaining three columns are numerical. If you were to use nominal encoding to\r\n",
    "transform the categorical data, how many new columns would be created? Show your calculations."
   ]
  },
  {
   "cell_type": "markdown",
   "id": "10d99c5f-cef4-4536-a232-4b861d8b6a62",
   "metadata": {},
   "source": [
    "Nominal encoding (label encoding) will not create new columns but will transform the categorical columns into single columns with numerical values.\n",
    "\n",
    "Example Calculation:\n",
    "\n",
    "Original dataset: 5 columns (2 categorical, 3 numerical).\n",
    "\n",
    "After nominal encoding: 5 columns (2 transformed to numerical, 3 original numerical).\n",
    "\n",
    "No new columns are created; the structure remains the same."
   ]
  },
  {
   "cell_type": "markdown",
   "id": "8721fcb0-30bf-45e6-89ae-92f21aa6cc28",
   "metadata": {},
   "source": [
    "Q6. You are working with a dataset containing information about different types of animals, including their\r\n",
    "species, habitat, and diet. Which encoding technique would you use to transform the categorical data into\r\n",
    "a format suitable for machine learning algorithms? Justify your answer."
   ]
  },
  {
   "cell_type": "markdown",
   "id": "1d26979e-ac29-47eb-859e-04bb26c29830",
   "metadata": {},
   "source": [
    "For this dataset, one-hot encoding is a suitable choice because it:\n",
    "\n",
    "Avoids Ordinal Relationships: Ensures that no unintended ordinal relationships are inferred.\n",
    "\n",
    "Handles Multiple Categories: Works well for categorical features like species, habitat, and diet, which likely have multiple categories.\n",
    "\n",
    "Justification:\n",
    "\n",
    "One-hot encoding creates binary columns for each category, making the data suitable for machine learning models that require numerical input without assuming any order among categories."
   ]
  },
  {
   "cell_type": "markdown",
   "id": "48255e49-61d8-4e0d-ad81-6b41e573645e",
   "metadata": {},
   "source": [
    "Q7.You are working on a project that involves predicting customer churn for a telecommunications\r\n",
    "company. You have a dataset with 5 features, including the customer's gender, age, contract type,\r\n",
    "monthly charges, and tenure. Which encoding technique(s) would you use to transform the categorical\r\n",
    "data into numerical data? Provide a step-by-step explanation of how you would implement the encoding."
   ]
  },
  {
   "cell_type": "markdown",
   "id": "1c8de20e-e206-4298-854b-a693aba70b29",
   "metadata": {},
   "source": [
    "For this dataset, I would use a combination of one-hot encoding and label encoding based on the features:\n",
    "\n",
    "Identify Categorical Features: Gender, Contract Type.\n",
    "\n",
    "Identify Numerical Features: Age, Monthly Charges, Tenure.\n",
    "\n",
    "Encoding Steps:\n",
    "\n",
    "#Gender (Binary Category):\n",
    "\n",
    "#Use label encoding or one-hot encoding.\n",
    "\n",
    "Label Encoding: Male: 0, Female: 1.\n",
    "\n",
    "One-Hot Encoding: Male: [1, 0], Female: [0, 1].\n",
    "\n",
    "Contract Type (Multiple Categories):\n",
    "\n",
    "#Use one-hot encoding to avoid implying any ordinal relationship.\n",
    "\n",
    "#Example:\n",
    "\n",
    "Month-to-month: [1, 0, 0]\n",
    "\n",
    "One year: [0, 1, 0]\n",
    "\n",
    "Two year: [0, 0, 1]"
   ]
  }
 ],
 "metadata": {
  "kernelspec": {
   "display_name": "Python 3 (ipykernel)",
   "language": "python",
   "name": "python3"
  },
  "language_info": {
   "codemirror_mode": {
    "name": "ipython",
    "version": 3
   },
   "file_extension": ".py",
   "mimetype": "text/x-python",
   "name": "python",
   "nbconvert_exporter": "python",
   "pygments_lexer": "ipython3",
   "version": "3.11.7"
  }
 },
 "nbformat": 4,
 "nbformat_minor": 5
}
