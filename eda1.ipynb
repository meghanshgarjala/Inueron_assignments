{
 "cells": [
  {
   "cell_type": "markdown",
   "id": "60adc9d5-082c-4d58-89fa-7d1f5ac7a340",
   "metadata": {},
   "source": [
    "Q1. What are the key features of the wine quality data set? Discuss the importance of each feature in\r\n",
    "predicting the quality of wine."
   ]
  },
  {
   "cell_type": "markdown",
   "id": "8980574d-3c29-4dd5-b4a3-87c145b1c0d9",
   "metadata": {},
   "source": [
    "The wine quality dataset typically includes the following features:\n",
    "\n",
    "Fixed Acidity: Tartaric acid content; affects the taste and stability of wine.\n",
    "\n",
    "Volatile Acidity: Acetic acid content; high levels can lead to an unpleasant vinegar taste.\n",
    "\n",
    "Citric Acid: Adds freshness and flavor; acts as a preservative.\n",
    "\n",
    "Residual Sugar: Sugar remaining after fermentation; affects sweetness.\n",
    "\n",
    "Chlorides: Salt content; can affect taste and stability.\n",
    "\n",
    "Free Sulfur Dioxide: Acts as an antimicrobial and antioxidant.\n",
    "\n",
    "Total Sulfur Dioxide: Sum of free and bound forms; excessive amounts can cause undesirable taste.\n",
    "\n",
    "Density: Density of the wine; related to alcohol and sugar content.\n",
    "\n",
    "pH: Measures acidity; affects the taste and preservation.\n",
    "\n",
    "Sulphates: Adds to sulfur dioxide; acts as an antimicrobial and antioxidant.\n",
    "\n",
    "Alcohol: Alcohol content; influences taste and body of the wine.\n",
    "\n",
    "Quality: The target variable; subjective quality score assigned by wine experts."
   ]
  },
  {
   "cell_type": "markdown",
   "id": "e8ff8109-2df0-4ddf-bd27-d61230889457",
   "metadata": {},
   "source": [
    "Q2. How did you handle missing data in the wine quality data set during the feature engineering process?\r\n",
    "Discuss the advantages and disadvantages of different imputation techniques."
   ]
  },
  {
   "cell_type": "markdown",
   "id": "b7443695-3028-49c7-ab09-dadc1f68adc6",
   "metadata": {},
   "source": [
    "Imputation Techniques:\n",
    "\n",
    "#Mean/Median/Mode Imputation: Replace missing values with the mean, median, or mode of the feature.\n",
    "\n",
    "Advantages: Simple and fast.\n",
    "\n",
    "Disadvantages: Can distort variance and correlations.\n",
    "\n",
    "#K-Nearest Neighbors (KNN) Imputation: Use the nearest neighbors to impute missing values.\n",
    "\n",
    "Advantages: Can preserve local structure and relationships.\n",
    "\n",
    "Disadvantages: Computationally intensive, especially for large datasets.\n",
    "\n",
    "#Regression Imputation: Predict missing values using regression models.\n",
    "\n",
    "Advantages: Utilizes relationships between features.\n",
    "\n",
    "Disadvantages: Risk of overfitting; assumes linear relationships.\n",
    "\n",
    "#Multiple Imputation: Use multiple imputed datasets and average the results.\n",
    "\n",
    "Advantages: Accounts for uncertainty in imputation.\n",
    "\n",
    "Disadvantages: Computationally intensive and complex."
   ]
  },
  {
   "cell_type": "markdown",
   "id": "17c579d9-1290-49aa-b727-20d4377e3b9c",
   "metadata": {},
   "source": [
    "Q3. What are the key factors that affect students' performance in exams? How would you go about\r\n",
    "analyzing these factors using statistical techniques?"
   ]
  },
  {
   "cell_type": "markdown",
   "id": "cb5ece74-45e7-448a-ae13-0c5997315a02",
   "metadata": {},
   "source": [
    "#Factors Affecting Performance:\n",
    "\n",
    "Study Time: Amount of time spent studying.\n",
    "\n",
    "Attendance: Frequency of attending classes.\n",
    "\n",
    "Parental Education: Level of education attained by parents.\n",
    "\n",
    "Socioeconomic Status: Economic and social position based on income, education, and occupation.\n",
    "\n",
    "Health: Physical and mental health status.\n",
    "\n",
    "Extracurricular Activities: Participation in activities outside of academics.\n",
    "\n",
    "Teaching Quality: Effectiveness of teaching methods and teachers.\n",
    "\n",
    "#Analyzing Factors:\n",
    "\n",
    "Descriptive Statistics: Summarize and understand the data.\n",
    "\n",
    "Correlation Analysis: Identify relationships between variables.\n",
    "\n",
    "Regression Analysis: Assess the impact of different factors on performance.\n",
    "\n",
    "Hypothesis Testing: Test specific hypotheses about factors affecting performance."
   ]
  },
  {
   "cell_type": "markdown",
   "id": "53750c20-f25a-4d44-a441-e979fc95fbd9",
   "metadata": {},
   "source": [
    "Q4. Describe the process of feature engineering in the context of the student performance data set. How\r\n",
    "did you select and transform the variables for your model?"
   ]
  },
  {
   "cell_type": "markdown",
   "id": "ba4e7e8c-7136-4a13-8596-26cd21ca99df",
   "metadata": {},
   "source": [
    "Feature Engineering Process:\n",
    "\n",
    "#Data Cleaning: Handle missing values, correct errors, and remove outliers.\n",
    "\n",
    "#Feature Selection: Choose relevant features based on domain knowledge and statistical analysis.\n",
    "\n",
    "#Feature Transformation:\n",
    "\n",
    "    Normalization/Scaling: Scale numerical features to a standard range.\n",
    "\n",
    "    Encoding Categorical Variables: Convert categorical variables to numerical form using techniques like one-hot encoding or label encoding.\n",
    "\n",
    "#Feature Creation: Create new features from existing data (e.g., interaction terms, polynomial features).\n",
    "\n",
    "#Dimensionality Reduction: Use techniques like PCA to reduce the number of features."
   ]
  },
  {
   "cell_type": "markdown",
   "id": "dd5aea9b-4a71-4616-8a9b-57e79263c802",
   "metadata": {},
   "source": [
    "Q5. Load the wine quality data set and perform exploratory data analysis (EDA) to identify the distribution\r\n",
    "of each feature. Which feature(s) exhibit non-normality, and what transformations could be applied to\r\n",
    "these features to improve normality?"
   ]
  },
  {
   "cell_type": "raw",
   "id": "0e81cfb6-706d-4714-9798-ce4e9e9b09ec",
   "metadata": {},
   "source": [
    "import pandas as pd\n",
    "import seaborn as sns\n",
    "import matplotlib.pyplot as plt\n",
    "from scipy.stats import skew\n",
    "\n",
    "wine_data = pd.read_csv('winequality.csv')\n",
    "\n",
    "print(wine_data.describe())\n",
    "\n",
    "wine_data.hist(bins=20, figsize=(15, 10))\n",
    "plt.show()\n",
    "\n",
    "skewness = wine_data.apply(lambda x: skew(x.dropna()))\n",
    "print(skewness)\n",
    "\n",
    "non_normal_features = skewness[abs(skewness) > 1].index\n",
    "print(f\"Non-normal features: {non_normal_features}\")\n",
    "\n",
    "for feature in non_normal_features:\n",
    "    wine_data[feature] = np.log1p(wine_data[feature])\n",
    "\n",
    "transformed_skewness = wine_data[non_normal_features].apply(lambda x: skew(x.dropna()))\n",
    "print(transformed_skewness)\n"
   ]
  },
  {
   "cell_type": "markdown",
   "id": "e213d73d-f0fe-427e-880a-8bb0a76202e4",
   "metadata": {},
   "source": [
    "Q6. Using the wine quality data set, perform principal component analysis (PCA) to reduce the number of\r\n",
    "features. What is the minimum number of principal components required to explain 90% of the variance in\r\n",
    "the data?"
   ]
  },
  {
   "cell_type": "raw",
   "id": "dce7cb33-1074-4102-b173-37f26e61c9d9",
   "metadata": {},
   "source": [
    "from sklearn.decomposition import PCA\r\n",
    "from sklearn.preprocessing import StandardScalerata\r\n",
    "features = wine_data.drop('quality', axis=1)\r\n",
    "scaler = StandardScaler()\r\n",
    "features_scaled = scaler.fit_transform(featform PCA\r\n",
    "pca = PCA(n_components=0.90)  # Retain 90% of variance\r\n",
    "pca.fit(featurethe variance\r\n",
    "num_components = pca.n_components_\r\n",
    "print(f\"Number of components to explain 90% variance: {num_components}\")\r\n"
   ]
  }
 ],
 "metadata": {
  "kernelspec": {
   "display_name": "Python 3 (ipykernel)",
   "language": "python",
   "name": "python3"
  },
  "language_info": {
   "codemirror_mode": {
    "name": "ipython",
    "version": 3
   },
   "file_extension": ".py",
   "mimetype": "text/x-python",
   "name": "python",
   "nbconvert_exporter": "python",
   "pygments_lexer": "ipython3",
   "version": "3.11.7"
  }
 },
 "nbformat": 4,
 "nbformat_minor": 5
}
