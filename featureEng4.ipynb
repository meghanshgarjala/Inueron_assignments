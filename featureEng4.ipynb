{
 "cells": [
  {
   "cell_type": "markdown",
   "id": "88074c36-a2bd-47a7-ba84-72ee6917b083",
   "metadata": {},
   "source": [
    "Q1. What is the difference between Ordinal Encoding and Label Encoding? Provide an example of when you\r\n",
    "might choose one over the other."
   ]
  },
  {
   "cell_type": "markdown",
   "id": "06ac6f0b-1eb6-4c43-af17-86f8ccb86c9d",
   "metadata": {},
   "source": [
    "Label Encoding:\n",
    "\n",
    "Converts categorical variables into numerical values.\n",
    "No order is implied among the categories.\n",
    "Example: For a categorical variable \"Fruit\" with categories [\"Apple\", \"Banana\", \"Cherry\"], label encoding might assign: Apple: 0, Banana: 1, Cherry: 2.\n",
    "\n",
    "Ordinal Encoding:\n",
    "\n",
    "Similar to label encoding but used when the categorical data has an inherent order.\n",
    "\n",
    "Example: For a categorical variable \"Size\" with categories [\"Small\", \"Medium\", \"Large\"], ordinal encoding might assign: Small: 0, Medium: 1, Large: 2.\n",
    "\n",
    "Choosing Between Them:\n",
    "\n",
    "Use Label Encoding when the categorical variable has no inherent order.\n",
    "Use Ordinal Encoding when the categorical variable has a natural order.\n",
    "\n",
    "Example:\n",
    "\n",
    "For a variable \"Quality\" with categories [\"Low\", \"Medium\", \"High\"], use ordinal encoding.\n",
    "For a variable \"Color\" with categories [\"Red\", \"Green\", \"Blue\"], use label encoding."
   ]
  },
  {
   "cell_type": "markdown",
   "id": "ef1dddbe-925b-4691-be9d-7b42a0b3fc1b",
   "metadata": {},
   "source": [
    "Q2. Explain how Target Guided Ordinal Encoding works and provide an example of when you might use it in\r\n",
    "a machine learning project."
   ]
  },
  {
   "cell_type": "markdown",
   "id": "19b9d9db-77be-4b3a-a2a7-7e22a951b74b",
   "metadata": {},
   "source": [
    "Target Guided Ordinal Encoding:\n",
    "\n",
    "This technique assigns numerical values to categories based on the relationship between the category and the target variable.\n",
    "The categories are sorted by the mean of the target variable, and then numerical values are assigned based on this order.\n",
    "\n",
    "#Example:\n",
    "\n",
    "Suppose you have a dataset with a categorical feature \"City\" and a target variable \"House Price.\" The steps are:\n",
    "\n",
    "Calculate the mean house price for each city.\n",
    "\n",
    "Sort the cities by the mean house price.\n",
    "\n",
    "Assign ordinal values based on the sorted order.\n",
    "\n",
    "#When to Use:\n",
    "\n",
    "Use when the categorical variable has no inherent order, but you want to incorporate the relationship between the categorical variable and the target variable into the encoding process.\n",
    "\n",
    "Example: Predicting house prices based on the \"City\" feature."
   ]
  },
  {
   "cell_type": "markdown",
   "id": "a9f28238-6ba2-43a6-b50a-3f557f1fa53d",
   "metadata": {},
   "source": [
    "Q3. Define covariance and explain why it is important in statistical analysis. How is covariance calculated?"
   ]
  },
  {
   "cell_type": "markdown",
   "id": "f82b16b6-4b3b-4932-bd61-4c1c16dcd817",
   "metadata": {},
   "source": [
    "#Covariance:\n",
    "\n",
    "Covariance measures the directional relationship between two variables.\n",
    "\n",
    "Positive covariance indicates that the variables tend to increase or decrease together.\n",
    "\n",
    "Negative covariance indicates that as one variable increases, the other tends to decrease.\n",
    "\n",
    "#Importance in Statistical Analysis:\n",
    "\n",
    "Helps in understanding the relationship between variables.\n",
    "\n",
    "Used in portfolio theory to determine the correlation between different assets."
   ]
  },
  {
   "cell_type": "markdown",
   "id": "c76e4d21-32fb-4824-8188-b63fef49d31c",
   "metadata": {},
   "source": [
    "Q4. For a dataset with the following categorical variables: Color (red, green, blue), Size (small, medium,\r\n",
    "large), and Material (wood, metal, plastic), perform label encoding using Python's scikit-learn library.\r\n",
    "Show your code and explain the output."
   ]
  },
  {
   "cell_type": "code",
   "execution_count": 3,
   "id": "efc4c594-9d81-4965-9735-1b0506249c83",
   "metadata": {},
   "outputs": [
    {
     "name": "stdout",
     "output_type": "stream",
     "text": [
      "   Color  Size  Material\n",
      "0      2     2         2\n",
      "1      1     1         0\n",
      "2      0     0         1\n"
     ]
    }
   ],
   "source": [
    "import pandas as pd\n",
    "from sklearn.preprocessing import LabelEncoder\n",
    "\n",
    "\n",
    "data = {\n",
    "    'Color': ['red', 'green', 'blue'],\n",
    "    'Size': ['small', 'medium', 'large'],\n",
    "    'Material': ['wood', 'metal', 'plastic']\n",
    "}\n",
    "\n",
    "df = pd.DataFrame(data)\n",
    "\n",
    "label_encoders = {\n",
    "    'Color': LabelEncoder(),\n",
    "    'Size': LabelEncoder(),\n",
    "    'Material': LabelEncoder()\n",
    "}\n",
    "\n",
    "for column, encoder in label_encoders.items():\n",
    "    df[column] = encoder.fit_transform(df[column])\n",
    "\n",
    "print(df)"
   ]
  },
  {
   "cell_type": "markdown",
   "id": "926ff881-ff24-4b4d-8b80-e1361ba11255",
   "metadata": {},
   "source": [
    "Q5. Calculate the covariance matrix for the following variables in a dataset: Age, Income, and Education\r\n",
    "level. Interpret the results."
   ]
  },
  {
   "cell_type": "code",
   "execution_count": 4,
   "id": "f1741945-b0ae-457c-8fb5-2ba64614add4",
   "metadata": {},
   "outputs": [
    {
     "name": "stdout",
     "output_type": "stream",
     "text": [
      "[[2.213e+02 3.379e+05 3.340e+01]\n",
      " [3.379e+05 5.287e+08 5.020e+04]\n",
      " [3.340e+01 5.020e+04 5.200e+00]]\n"
     ]
    }
   ],
   "source": [
    "import numpy as np\n",
    "\n",
    "age = [25, 32, 47, 51, 62]\n",
    "income = [35000, 45000, 62000, 78000, 91000]\n",
    "education_level = [12, 14, 16, 16, 18]\n",
    "\n",
    "data = np.array([age, income, education_level])\n",
    "\n",
    "cov_matrix = np.cov(data)\n",
    "print(cov_matrix)\n"
   ]
  },
  {
   "cell_type": "markdown",
   "id": "4c8ba419-7d7c-4620-90b0-19da4557aa3b",
   "metadata": {},
   "source": [
    "Q6. You are working on a machine learning project with a dataset containing several categorical\r\n",
    "variables, including \"Gender\" (Male/Female), \"Education Level\" (High School/Bachelor's/Master's/PhD),\r\n",
    "and \"Employment Status\" (Unemployed/Part-Time/Full-Time). Which encoding method would you use for\r\n",
    "each variable, and why?"
   ]
  },
  {
   "cell_type": "markdown",
   "id": "4cf10acd-a144-4647-bbde-14112fea846c",
   "metadata": {},
   "source": [
    "#Gender:\n",
    "\n",
    "Use label encoding or one-hot encoding.\n",
    "\n",
    "Reason: Binary category, label encoding is simple and sufficient.\n",
    "\n",
    "Example: Male -> 0, Female -> 1\n",
    "\n",
    "#Education Level:\n",
    "\n",
    "Use ordinal encoding.\n",
    "\n",
    "Reason: The categories have an inherent order.\n",
    "\n",
    "Example: High School -> 0, Bachelor's -> 1, Master's -> 2, PhD -> 3\n",
    "\n",
    "#Employment Status:\n",
    "\n",
    "Use one-hot encoding.\n",
    "\n",
    "Reason: No inherent order and multiple categories.\n",
    "\n",
    "Example: Unemployed -> [1, 0, 0], Part-Time -> [0, 1, 0], Full-Time -> [0, 0, 1]"
   ]
  },
  {
   "cell_type": "markdown",
   "id": "af3ca4ca-b20f-4ffd-a922-12e35e7ce7a5",
   "metadata": {},
   "source": [
    "Q7. You are analyzing a dataset with two continuous variables, \"Temperature\" and \"Humidity\", and two\r\n",
    "categorical variables, \"Weather Condition\" (Sunny/Cloudy/Rainy) and \"Wind Direction\" (North/South/\r\n",
    "East/West). Calculate the covariance between each pair of variables and interpret the results."
   ]
  },
  {
   "cell_type": "code",
   "execution_count": 5,
   "id": "9bd60546-6fa4-425d-b881-e3aa72e5ad23",
   "metadata": {},
   "outputs": [
    {
     "name": "stdout",
     "output_type": "stream",
     "text": [
      "[[62.5  56.25]\n",
      " [56.25 62.5 ]]\n"
     ]
    }
   ],
   "source": [
    "import numpy as np\n",
    "\n",
    "temperature = [70, 75, 80, 85, 90]\n",
    "humidity = [65, 60, 70, 75, 80]\n",
    "\n",
    "covariance = np.cov(temperature, humidity)\n",
    "print(covariance)\n"
   ]
  },
  {
   "cell_type": "markdown",
   "id": "e3e143e6-d79d-4fac-ae4f-06ea73217511",
   "metadata": {},
   "source": [
    "The covariance between Temperature and Humidity is 50.\n",
    "\n",
    "Positive covariance indicates that as temperature increases, humidity also tends to increase.\n",
    "\n",
    "For categorical variables (\"Weather Condition\" and \"Wind Direction\"), encoding is needed before calculating relationships, often done through other methods like Chi-Square tests for independence rather than covariance."
   ]
  }
 ],
 "metadata": {
  "kernelspec": {
   "display_name": "Python 3 (ipykernel)",
   "language": "python",
   "name": "python3"
  },
  "language_info": {
   "codemirror_mode": {
    "name": "ipython",
    "version": 3
   },
   "file_extension": ".py",
   "mimetype": "text/x-python",
   "name": "python",
   "nbconvert_exporter": "python",
   "pygments_lexer": "ipython3",
   "version": "3.11.7"
  }
 },
 "nbformat": 4,
 "nbformat_minor": 5
}
