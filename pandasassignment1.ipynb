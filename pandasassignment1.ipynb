{
 "cells": [
  {
   "cell_type": "markdown",
   "id": "57a010d4-43ca-41f2-a7cb-6ab1ba7dc5ef",
   "metadata": {},
   "source": [
    "Q1. Create a Pandas Series that contains the following data: 4, 8, 15, 16, 23, and 42. Then, print the series."
   ]
  },
  {
   "cell_type": "code",
   "execution_count": 2,
   "id": "7381ffe4-bb3c-4c86-b3ef-b66cead9e203",
   "metadata": {},
   "outputs": [
    {
     "name": "stdout",
     "output_type": "stream",
     "text": [
      "0     4\n",
      "1     8\n",
      "2    15\n",
      "3    16\n",
      "4    23\n",
      "5    42\n",
      "dtype: int64\n"
     ]
    }
   ],
   "source": [
    "import pandas as pd\n",
    "\n",
    "data = [4, 8, 15, 16, 23, 42]\n",
    "series = pd.Series(data)\n",
    "print(series)"
   ]
  },
  {
   "cell_type": "markdown",
   "id": "4b66be60-5b32-4d66-b104-133f1c218321",
   "metadata": {},
   "source": [
    "Q2. Create a variable of list type containing 10 elements in it, and apply pandas.Series function on the\r\n",
    "variable print it."
   ]
  },
  {
   "cell_type": "code",
   "execution_count": 3,
   "id": "b533bfb9-f701-403d-b096-c5144c758b3a",
   "metadata": {},
   "outputs": [
    {
     "name": "stdout",
     "output_type": "stream",
     "text": [
      "0     1\n",
      "1     2\n",
      "2     3\n",
      "3     4\n",
      "4     5\n",
      "5     6\n",
      "6     7\n",
      "7     8\n",
      "8     9\n",
      "9    10\n",
      "dtype: int64\n"
     ]
    }
   ],
   "source": [
    "import pandas as pd\n",
    "\n",
    "data_list = [1, 2, 3, 4, 5, 6, 7, 8, 9, 10]\n",
    "series = pd.Series(data_list)\n",
    "print(series)"
   ]
  },
  {
   "cell_type": "markdown",
   "id": "72114aae-1e02-4da3-868f-4ae281731438",
   "metadata": {},
   "source": [
    "Q3"
   ]
  },
  {
   "cell_type": "code",
   "execution_count": 5,
   "id": "dd19876f-f4ea-4f75-bc79-70dfcd403608",
   "metadata": {},
   "outputs": [
    {
     "name": "stdout",
     "output_type": "stream",
     "text": [
      "     Name  Age  Gender\n",
      "0   Alice   25  Female\n",
      "1     Bob   30    Male\n",
      "2  Claire   27  Female\n"
     ]
    }
   ],
   "source": [
    "import pandas as pd\n",
    "\n",
    "data = {\n",
    "    'Name': ['Alice', 'Bob', 'Claire'],\n",
    "    'Age': [25, 30, 27],\n",
    "    'Gender': ['Female', 'Male', 'Female']\n",
    "}\n",
    "\n",
    "df = pd.DataFrame(data)\n",
    "\n",
    "print(df)"
   ]
  },
  {
   "cell_type": "markdown",
   "id": "b3252ae3-b3de-4c13-90e0-e75c6e2bac20",
   "metadata": {},
   "source": [
    "Q4. What is ‘DataFrame’ in pandas and how is it different from pandas.series? Explain with an example."
   ]
  },
  {
   "cell_type": "markdown",
   "id": "d740fc7c-887e-421d-8483-3c6db08419ae",
   "metadata": {},
   "source": [
    "A Pandas DataFrame is a two-dimensional, tabular data structure with rows and columns. It is similar to a spreadsheet or a table in a relational database. The DataFrame has three main components: the data, which is stored in rows and columns; the rows, which are labeled by an index; and the columns, which are labeled and contain the actual data.\n",
    "\n",
    "On the other hand, a Pandas Series is a one-dimensional array-like object that can hold data of any type (integer, float, string, etc.). It is labelled, meaning each element has a unique identifier called an index. You can think of a Series as a column in a spreadsheet or a single column of a database table."
   ]
  },
  {
   "cell_type": "markdown",
   "id": "2289e6a7-e25e-4134-a144-53a5e8c9aa27",
   "metadata": {},
   "source": [
    "Q5. What are some common functions you can use to manipulate data in a Pandas DataFrame? Can\n",
    "you give an example of when you might use one of these functions?"
   ]
  },
  {
   "cell_type": "markdown",
   "id": "a90545e4-bc75-4535-90f3-48fe0a961af9",
   "metadata": {},
   "source": [
    ".iloc[]: Selects rows and columns by position (e.g., integer indices). This is useful when you know the exact row or column number you want.\n",
    "\n",
    ".head(): Returns the first n rows of the DataFrame. This is handy for getting a quick glimpse at the beginning of your data.\n",
    "\n",
    ".tail(): Returns the last n rows of the DataFrame. Useful for checking the end of your data for any irregularities.\n",
    "\n",
    ".drop(): Removes rows or columns based on labels or positions. You might use this to remove rows with missing values or columns that are not relevant to your analysis.\n",
    "\n",
    ".append(): Vertically stacks DataFrames. This is useful for combining multiple DataFrames with similar structures.\n",
    "\n",
    ".concat(): Similar to .append(), but offers more flexibility for combining DataFrames.\n",
    "                                                            "
   ]
  },
  {
   "cell_type": "markdown",
   "id": "a56663fb-e174-41bc-8c3d-744fe8a7aade",
   "metadata": {},
   "source": [
    "Q6. Which of the following is mutable in nature Series, DataFrame, Panel?"
   ]
  },
  {
   "cell_type": "markdown",
   "id": "e29e687f-458e-4358-80e3-cf358e45c116",
   "metadata": {},
   "source": [
    " DataFrame and Panel are mutable in nature.\n",
    "\n",
    "Series: While Series allows modifying its values, its size (number of elements) is fixed. You cannot add or remove elements from a Series.\n",
    "\n",
    "DataFrame: DataFrames allow changes to both values and their structure. You can add, remove, or modify columns, and modify existing values within the DataFrame.\n",
    "\n",
    "Panel: Similar to DataFrames, Panels (a less commonly used structure) are also mutable. You can add, remove, or modify the contained DataFrames within the Panel.\n",
    "\n"
   ]
  },
  {
   "cell_type": "markdown",
   "id": "cfc117e6-0471-4b56-8040-6274a7304c2c",
   "metadata": {},
   "source": [
    "Q7. Create a DataFrame using multiple Series. Explain with an example."
   ]
  },
  {
   "cell_type": "code",
   "execution_count": 7,
   "id": "05bfcad1-1158-47ed-8881-51e642ba3741",
   "metadata": {},
   "outputs": [
    {
     "name": "stdout",
     "output_type": "stream",
     "text": [
      "     Name  Age  Gender\n",
      "0   Alice   25  Female\n",
      "1     Bob   30    Male\n",
      "2  Claire   27  Female\n"
     ]
    }
   ],
   "source": [
    "import pandas as pd\n",
    "\n",
    "names = pd.Series(['Alice', 'Bob', 'Claire'])\n",
    "ages = pd.Series([25, 30, 27])\n",
    "genders = pd.Series(['Female', 'Male', 'Female'])\n",
    "\n",
    "data = {\n",
    "    'Name': names,\n",
    "    'Age': ages,\n",
    "    'Gender': genders\n",
    "}\n",
    "\n",
    "df = pd.DataFrame(data)\n",
    "print(df)"
   ]
  }
 ],
 "metadata": {
  "kernelspec": {
   "display_name": "Python 3 (ipykernel)",
   "language": "python",
   "name": "python3"
  },
  "language_info": {
   "codemirror_mode": {
    "name": "ipython",
    "version": 3
   },
   "file_extension": ".py",
   "mimetype": "text/x-python",
   "name": "python",
   "nbconvert_exporter": "python",
   "pygments_lexer": "ipython3",
   "version": "3.11.7"
  }
 },
 "nbformat": 4,
 "nbformat_minor": 5
}
