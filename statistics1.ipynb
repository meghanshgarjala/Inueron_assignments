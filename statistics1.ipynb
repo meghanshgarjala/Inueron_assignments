{
 "cells": [
  {
   "cell_type": "markdown",
   "id": "0e5d725b-3bf6-4382-a7e7-70ca87254afb",
   "metadata": {},
   "source": [
    "Q1. What is Statistics?"
   ]
  },
  {
   "cell_type": "markdown",
   "id": "f39d501f-bb90-459e-82c2-e34e2030384e",
   "metadata": {},
   "source": [
    "Statistics is a branch of mathematics that deals with the collection, analysis, interpretation, presentation, and organization of data. It provides tools and methods to understand and make decisions based on data."
   ]
  },
  {
   "cell_type": "markdown",
   "id": "7620a425-0ace-43fa-b948-0e78a69f8d3e",
   "metadata": {},
   "source": [
    "Q2. Define the different types of statistics and give an example of when each type might be used."
   ]
  },
  {
   "cell_type": "markdown",
   "id": "0588339d-efb4-4e15-aaf9-eec032311635",
   "metadata": {},
   "source": [
    "Statistics can be broadly divided into two types: descriptive and inferential statistics.\n",
    "    \n",
    "Descriptive Statistics\n",
    "Definition: Descriptive statistics summarize and describe the features of a dataset.\n",
    "Example: Calculating the mean, median, and mode of test scores in a class to understand the overall performance.\n",
    "    \n",
    "Inferential Statistics\n",
    "Definition: Inferential statistics use a sample of data to make inferences or predictions about a population.\n",
    "Example: Using a sample survey to predict the outcome of an election for the entire population."
   ]
  },
  {
   "cell_type": "markdown",
   "id": "24819221-0710-47ed-869c-674807df6cf7",
   "metadata": {},
   "source": [
    "Q3. What are the different types of data and how do they differ from each other? Provide an example of\n",
    "each type of data."
   ]
  },
  {
   "cell_type": "markdown",
   "id": "061ae20f-f62b-42d7-9e6e-de5b50e23edf",
   "metadata": {},
   "source": [
    "Data can be categorized into four main types: nominal, ordinal, interval, and ratio.\n",
    "\n",
    "Nominal Data\n",
    "Definition: Categorical data without any inherent order.\n",
    "Example: Gender (male, female, non-binary).\n",
    "\n",
    "Ordinal Data\n",
    "Definition: Categorical data with a meaningful order but no fixed intervals between categories.\n",
    "Example: Movie ratings (poor, fair, good, excellent).\n",
    "\n",
    "Interval Data\n",
    "Definition: Numeric data with equal intervals between values but no true zero point.\n",
    "Example: Temperature in Celsius or Fahrenheit.\n",
    "\n",
    "Ratio Data\n",
    "Definition: Numeric data with equal intervals between values and a true zero point.\n",
    "Example: Height, weight, and income."
   ]
  },
  {
   "cell_type": "markdown",
   "id": "e05cea2d-a71b-4697-8306-0879b792ed9c",
   "metadata": {},
   "source": [
    "Q4. Categorise the following datasets with respect to quantitative and qualitative data types:\n",
    "\n",
    "(i) Grading in exam: A+, A, B+, B, C+, C, D, E\n",
    "\n",
    "(ii) Colour of mangoes: yellow, green, orange, red\n",
    "\n",
    "(iii) Height data of a class: [178.9, 179, 179.5, 176, 177.2, 178.3, 175.8,...]\n",
    "\n",
    "(iv) Number of mangoes exported by a farm: [500, 600, 478, 672, ...]"
   ]
  },
  {
   "cell_type": "markdown",
   "id": "88c3dada-77a4-468b-ab12-6cb085e5c80b",
   "metadata": {},
   "source": [
    "Qualitative Data (Categorical Data)\n",
    "Grading in exam: A+, A, B+, B, C+, C, D, E\n",
    "\n",
    "Type: Ordinal qualitative data \n",
    "Reason: These grades represent categories with a meaningful order but no consistent numerical difference between them.\n",
    "Colour of mangoes: yellow, green, orange, red\n",
    "\n",
    "Type: Nominal qualitative data\n",
    "Reason: These are categories without any inherent order or ranking.\n",
    "\n",
    "Quantitative Data (Numerical Data)\n",
    "Height data of a class: [178.9, 179, 179.5, 176, 177.2, 178.3, 175.8,...]\n",
    "\n",
    "Type: Continuous quantitative data\n",
    "Reason: Heights can take on any value within a range and have meaningful numerical differences.\n",
    "Number of mangoes exported by a farm: [500, 600, 478, 672, ...]\n",
    "\n",
    "Type: Discrete quantitative data\n",
    "Reason: The number of mangoes is countable and can only take on integer values."
   ]
  },
  {
   "cell_type": "markdown",
   "id": "d673f037-a5be-473b-bbef-76dbe207aa11",
   "metadata": {},
   "source": [
    "Q5. Explain the concept of levels of measurement and give an example of a variable for each level."
   ]
  },
  {
   "cell_type": "markdown",
   "id": "d0047f49-8dd5-4cb4-a90f-5e140d02ec39",
   "metadata": {},
   "source": [
    "Levels of measurement describe the nature of data and the appropriate statistical analyses that can be performed.\n",
    "\n",
    "Nominal Level\n",
    "Definition: Categorizes data without any order.\n",
    "Example: Types of fruit (apple, banana, cherry).\n",
    "\n",
    "Ordinal Level\n",
    "Definition: Categorizes data with a meaningful order but no consistent interval.\n",
    "Example: Customer satisfaction rating (very unsatisfied, unsatisfied, neutral, satisfied, very satisfied).\n",
    "\n",
    "Interval Level\n",
    "Definition: Numeric data with equal intervals but no true zero point.\n",
    "Example: IQ scores.\n",
    "\n",
    "Ratio Level\n",
    "Definition: Numeric data with equal intervals and a true zero point.\n",
    "Example: Distance traveled."
   ]
  },
  {
   "cell_type": "markdown",
   "id": "3e043400-3566-4fd5-b69e-3f1a5fb135b2",
   "metadata": {},
   "source": [
    "Q6. Why is it important to understand the level of measurement when analyzing data? Provide an\n",
    "example to illustrate your answer."
   ]
  },
  {
   "cell_type": "markdown",
   "id": "0e649c45-a097-4bba-921b-73f0f0032a1f",
   "metadata": {},
   "source": [
    "Understanding the level of measurement is crucial for selecting appropriate statistical methods and accurately interpreting results.\n",
    "\n",
    "Example: If you have ordinal data (e.g., satisfaction ratings), using the mean to summarize the data might be misleading because the intervals between categories are not consistent. Instead, the median would be a more appropriate measure of central tendency."
   ]
  },
  {
   "cell_type": "markdown",
   "id": "4a7c7596-793a-460d-9900-e1c8263cc3a9",
   "metadata": {},
   "source": [
    "Q7. How nominal data type is different from ordinal data type."
   ]
  },
  {
   "cell_type": "markdown",
   "id": "16ca35f6-8ffd-406e-8670-c7f9a4cce73b",
   "metadata": {},
   "source": [
    "Nominal Data\n",
    "\n",
    "Definition: Categorical data without any order.\n",
    "Example: Blood types (A, B, AB, O).\n",
    "Ordinal Data\n",
    "\n",
    "Definition: Categorical data with a meaningful order.\n",
    "Example: Education level (high school, bachelor's, master's, doctorate)."
   ]
  },
  {
   "cell_type": "markdown",
   "id": "352da0ac-69f8-4229-bf74-24f2d1e6bdbf",
   "metadata": {},
   "source": [
    "Q8. Which type of plot can be used to display data in terms of range?"
   ]
  },
  {
   "cell_type": "markdown",
   "id": "0466e191-6f6a-44b2-a6d7-b36800ad9ce3",
   "metadata": {},
   "source": [
    "A box plot (also known as a box-and-whisker plot) is commonly used to display data in terms of range. It shows the minimum, first quartile, median, third quartile, and maximum values of a dataset."
   ]
  },
  {
   "cell_type": "markdown",
   "id": "af50167c-8a6e-4330-8f27-0eb4db6ee375",
   "metadata": {},
   "source": [
    "Q9. Describe the difference between descriptive and inferential statistics. Give an example of each\n",
    "type of statistics and explain how they are used."
   ]
  },
  {
   "cell_type": "markdown",
   "id": "18cb71e0-4629-474c-8d6c-56cb1c5f17c0",
   "metadata": {},
   "source": [
    "Descriptive Statistics\n",
    "\n",
    "Definition: Summarize and describe the features of a dataset.\n",
    "Example: Calculating the average age of students in a class.\n",
    "Use: Used to provide a summary and overview of data.\n",
    "Inferential Statistics\n",
    "\n",
    "Definition: Make inferences or predictions about a population based on a sample.\n",
    "Example: Conducting a hypothesis test to determine if a new drug is effective.\n",
    "Use: Used to draw conclusions and make predictions about a larger population."
   ]
  },
  {
   "cell_type": "markdown",
   "id": "285f0869-9afe-4cf5-b237-27e204d57703",
   "metadata": {},
   "source": [
    "Q10. What are some common measures of central tendency and variability used in statistics? Explain\n",
    "how each measure can be used to describe a dataset."
   ]
  },
  {
   "cell_type": "markdown",
   "id": "5c06936c-0205-434d-9268-cd6e4b95fc7d",
   "metadata": {},
   "source": [
    "#Measures of Central Tendency\n",
    "\n",
    "Mean: The average of a dataset. It is sensitive to outliers.\n",
    "Use: Used to find the overall central value of a dataset.\n",
    "\n",
    "Median: The middle value of a dataset when it is ordered. It is not affected by outliers.\n",
    "Use: Used when the dataset has outliers or is skewed.\n",
    "\n",
    "Mode: The most frequently occurring value in a dataset.\n",
    "Use: Used for categorical data to find the most common category.\n",
    "\n",
    "#Measures of Variability\n",
    "\n",
    "Range: The difference between the maximum and minimum values in a dataset.\n",
    "Use: Provides a quick sense of the spread of data.\n",
    "\n",
    "Variance: The average squared deviation from the mean.\n",
    "Use: Indicates how much the data points differ from the mean.\n",
    "\n",
    "Standard Deviation: The square root of the variance.\n",
    "Use: Provides a measure of the average distance of each data point from the mean."
   ]
  }
 ],
 "metadata": {
  "kernelspec": {
   "display_name": "Python 3 (ipykernel)",
   "language": "python",
   "name": "python3"
  },
  "language_info": {
   "codemirror_mode": {
    "name": "ipython",
    "version": 3
   },
   "file_extension": ".py",
   "mimetype": "text/x-python",
   "name": "python",
   "nbconvert_exporter": "python",
   "pygments_lexer": "ipython3",
   "version": "3.11.7"
  }
 },
 "nbformat": 4,
 "nbformat_minor": 5
}
