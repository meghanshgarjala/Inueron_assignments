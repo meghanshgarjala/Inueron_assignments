{
 "cells": [
  {
   "cell_type": "markdown",
   "id": "ac262577-ac9e-479d-bf7e-649ab183bad9",
   "metadata": {},
   "source": [
    "Q1: What is Estimation Statistics? Explain point estimate and interval estimate."
   ]
  },
  {
   "cell_type": "markdown",
   "id": "e08dcdcc-34b3-4804-9e86-c196eef23612",
   "metadata": {},
   "source": [
    "Estimation Statistics:\n",
    "Estimation statistics is a branch of statistics that deals with estimating the values of population parameters based on sample data. It provides techniques for making inferences about the characteristics of a population.\n",
    "\n",
    "Point Estimate:\n",
    "A point estimate is a single value estimate of a population parameter. For example, the sample mean (\n",
    "𝑥) is a point estimate of the population mean (𝜇).\n",
    "\n",
    "Interval Estimate:\n",
    "An interval estimate provides a range of values within which the population parameter is expected to lie. For example, a confidence interval for the population mean gives a range of values that, with a certain level of confidence, contains the true population mean."
   ]
  },
  {
   "cell_type": "markdown",
   "id": "ba9e8351-2bb5-478d-be23-2fbc56e6d97e",
   "metadata": {},
   "source": [
    "Q2. Write a Python function to estimate the population mean using a sample mean and standard\r\n",
    "deviation."
   ]
  },
  {
   "cell_type": "code",
   "execution_count": 15,
   "id": "90cf22ff-d7dc-43fc-b4f6-e9f2b9d27d55",
   "metadata": {},
   "outputs": [
    {
     "name": "stdout",
     "output_type": "stream",
     "text": [
      "Estimated Population Mean: 500\n",
      "Confidence Interval: (485.79015724388137, 514.2098427561186)\n"
     ]
    }
   ],
   "source": [
    "def estimate_population_mean(sample_mean, sample_std, sample_size, confidence_level=0.95):\n",
    "    from scipy.stats import t\n",
    "    import numpy as np\n",
    "    \n",
    "    alpha = 1 - confidence_level\n",
    "    t_critical = t.ppf(1 - alpha/2, df=sample_size - 1)\n",
    "    margin_of_error = t_critical * (sample_std / np.sqrt(sample_size))\n",
    "    \n",
    "    lower_bound = sample_mean - margin_of_error\n",
    "    upper_bound = sample_mean + margin_of_error\n",
    "    \n",
    "    return sample_mean, (lower_bound, upper_bound)\n",
    "\n",
    "sample_mean = 500\n",
    "sample_std = 50\n",
    "sample_size = 50\n",
    "confidence_level = 0.95\n",
    "\n",
    "mean_estimate, confidence_interval = estimate_population_mean(sample_mean, sample_std, sample_size, confidence_level)\n",
    "print(f\"Estimated Population Mean: {mean_estimate}\")\n",
    "print('Confidence Interval:' ,confidence_interval)\n",
    "\r\n"
   ]
  },
  {
   "cell_type": "markdown",
   "id": "e192b839-6b91-4433-b036-923227679c46",
   "metadata": {},
   "source": [
    "Q3: What is Hypothesis testing? Why is it used? State the importance of Hypothesis testing."
   ]
  },
  {
   "cell_type": "markdown",
   "id": "be611fdb-1217-45b2-8fa5-b303a0c30005",
   "metadata": {},
   "source": [
    "Hypothesis Testing:\n",
    "\n",
    "Hypothesis testing is a statistical method used to make inferences or draw conclusions about a population based on sample data. It involves testing an assumption (hypothesis) about a population parameter.\n",
    "\n",
    "Why it is used:\n",
    "\n",
    "To determine if there is enough evidence to support a specific claim about a population parameter.\n",
    "\n",
    "To make decisions in scientific research, business, medicine, and many other fields based on data analysis.\n",
    "\n",
    "Importance of Hypothesis Testing:\n",
    "\n",
    "Helps in making informed decisions.\n",
    "\n",
    "Provides a structured framework for testing theories and models.\n",
    "\n",
    "Allows for objective assessment of data."
   ]
  },
  {
   "cell_type": "markdown",
   "id": "954906c1-e219-4f4e-89e0-53fdcc02dd70",
   "metadata": {},
   "source": [
    "Q4. Create a hypothesis that states whether the average weight of male college students is greater than\r\n",
    "the average weight of female college students."
   ]
  },
  {
   "cell_type": "markdown",
   "id": "8ed038c7-c214-4205-a846-1b32b0933075",
   "metadata": {},
   "source": [
    "Hypothesis:\n",
    "\n",
    "Null Hypothesis (𝐻0): The average weight of male college students is equal to the average weight of female college students.\n",
    "(𝜇_𝑚𝑎𝑙𝑒=𝜇_𝑓𝑒𝑚𝑎𝑙𝑒)\n",
    "\n",
    "Alternative Hypothesis (𝐻𝑎): The average weight of male college students is greater than the average weight of female college students. (𝜇_𝑚𝑎𝑙𝑒>𝜇_𝑓𝑒𝑚𝑎𝑙𝑒)"
   ]
  },
  {
   "cell_type": "markdown",
   "id": "37170581-bab3-4958-8adc-1fcda53ee1aa",
   "metadata": {},
   "source": [
    "Q5. Write a Python script to conduct a hypothesis test on the difference between two population means,\r\n",
    "given a sample from each population."
   ]
  },
  {
   "cell_type": "code",
   "execution_count": 21,
   "id": "c109c837-3376-4162-b896-2dd655891d6f",
   "metadata": {},
   "outputs": [
    {
     "name": "stdout",
     "output_type": "stream",
     "text": [
      "T-statistic: 1.8319060983296012\n",
      "P-value: 0.07210169386375394\n",
      "Result: fail to reject the null hypothesis\n"
     ]
    }
   ],
   "source": [
    "import numpy as np\n",
    "from scipy.stats import ttest_ind\n",
    "\n",
    "def hypothesis_test(sample1, sample2, alpha=0.05):\n",
    "    t_stat, p_value = ttest_ind(sample1, sample2)\n",
    "    result = \"reject\" if p_value < alpha else \"fail to reject\"\n",
    "    \n",
    "    return t_stat, p_value, result\n",
    "\n",
    "\n",
    "sample1 = np.random.normal(70, 10, 30)  # male weights\n",
    "sample2 = np.random.normal(65, 8, 30)   # female weights\n",
    "\n",
    "t_stat, p_value, result = hypothesis_test(sample1, sample2)\n",
    "print(f\"T-statistic: {t_stat}\")\n",
    "print(f\"P-value: {p_value}\")\n",
    "print(f\"Result: {result} the null hypothesis\")\r\n"
   ]
  },
  {
   "cell_type": "markdown",
   "id": "02d5d7d9-2b3e-4555-8aae-7ea91f29c5bd",
   "metadata": {},
   "source": [
    "Q6: What is a null and alternative hypothesis? Give some examples."
   ]
  },
  {
   "cell_type": "markdown",
   "id": "c0b52840-5eaf-45b4-ac81-ae15c942ca8e",
   "metadata": {},
   "source": [
    "Null Hypothesis (𝐻0): A statement that there is no effect or no difference. It is the hypothesis that the researcher seeks to disprove.\n",
    "\n",
    "Alternative Hypothesis (𝐻𝑎): A statement that indicates the presence of an effect or a difference. It is what the researcher wants to prove."
   ]
  },
  {
   "cell_type": "markdown",
   "id": "8237ab79-3741-4847-80e7-7835ef2b1a6c",
   "metadata": {},
   "source": [
    "Q7: Write down the steps involved in hypothesis testing."
   ]
  },
  {
   "cell_type": "markdown",
   "id": "f0ffc08c-e360-431e-9499-1293c49968cb",
   "metadata": {},
   "source": [
    "State the hypotheses: Formulate the null and alternative hypotheses.\n",
    "\n",
    "Choose the significance level (𝛼):Common choices are 0.05, 0.01, and 0.10.\n",
    "\n",
    "Collect the data: Gather sample data relevant to the hypotheses.\n",
    "\n",
    "Calculate the test statistic: Use the appropriate statistical test based on the data and hypotheses.\n",
    "\n",
    "Determine the p-value or critical value: Compare the test statistic to the critical value or calculate the p-value.\n",
    "\n",
    "Make a decision: Reject or fail to reject the null hypothesis based on the p-value or critical value.\n",
    "\n",
    "Draw a conclusion: Interpret the results in the context of the research question."
   ]
  },
  {
   "cell_type": "markdown",
   "id": "17078ac2-58ae-444c-81a5-544333447a5d",
   "metadata": {},
   "source": [
    "Q8. Define p-value and explain its significance in hypothesis testing."
   ]
  },
  {
   "cell_type": "markdown",
   "id": "c581951d-f667-497e-a3d3-44857cb88d2e",
   "metadata": {},
   "source": [
    "P-value:\n",
    "\n",
    "The p-value is the probability of obtaining test results at least as extreme as the observed results, assuming that the null hypothesis is true. It measures the strength of the evidence against the null hypothesis.\n",
    "\n",
    "Significance:\n",
    "\n",
    "A low p-value (< 𝛼) indicates strong evidence against the null hypothesis, leading to its rejection.\n",
    "\n",
    "A high p-value (≥ 𝛼) indicates weak evidence against the null hypothesis, leading to its retention."
   ]
  },
  {
   "cell_type": "markdown",
   "id": "8a366b6f-6d85-450e-bbb6-55dcf7a26d4d",
   "metadata": {},
   "source": [
    "Q9. Generate a Student's t-distribution plot using Python's matplotlib library, with the degrees of freedom\r\n",
    "parameter set to 10."
   ]
  },
  {
   "cell_type": "code",
   "execution_count": 27,
   "id": "0542f67d-5a51-45a1-876b-e93e7bb41393",
   "metadata": {},
   "outputs": [
    {
     "data": {
      "image/png": "[encoded data removed]",
      "text/plain": [
       "<Figure size 640x480 with 1 Axes>"
      ]
     },
     "metadata": {},
     "output_type": "display_data"
    }
   ],
   "source": [
    "import matplotlib.pyplot as plt\n",
    "import numpy as np\n",
    "from scipy.stats import t\n",
    "\n",
    "df = 10\n",
    "\n",
    "x = np.linspace(-4, 4, 1000)\n",
    "y = t.pdf(x, df)\n",
    "\n",
    "\n",
    "plt.plot(x, y, label=f't-distribution (df={df})')\n",
    "plt.title(\"Student's t-Distribution\")\n",
    "plt.xlabel('Value')\n",
    "plt.ylabel('Probability Density')\n",
    "plt.legend()\n",
    "plt.grid(True)\n",
    "plt.show()\n",
    "\r\n",
    "plt.show()\r\n"
   ]
  },
  {
   "cell_type": "markdown",
   "id": "c0e23186-5e16-4d11-b25f-737efb333195",
   "metadata": {},
   "source": [
    "Q10. Write a Python program to calculate the two-sample t-test for independent samples, given two\r\n",
    "random samples of equal size and a null hypothesis that the population means are equal."
   ]
  },
  {
   "cell_type": "code",
   "execution_count": 29,
   "id": "9ae41dbc-1beb-4b56-91b8-99064ddd5cef",
   "metadata": {},
   "outputs": [
    {
     "name": "stdout",
     "output_type": "stream",
     "text": [
      "T-statistic: 2.367184661610828\n",
      "P-value: 0.02128167026557894\n",
      "Result: reject the null hypothesis\n"
     ]
    }
   ],
   "source": [
    "from scipy.stats import ttest_ind\n",
    "\n",
    "def two_sample_t_test(sample1, sample2, alpha=0.05):\n",
    "    t_stat, p_value = ttest_ind(sample1, sample2)\n",
    "    result = \"reject\" if p_value < alpha else \"fail to reject\"\n",
    "    \n",
    "    return t_stat, p_value, result\n",
    "\n",
    "sample1 = np.random.normal(70, 10, 30)\n",
    "sample2 = np.random.normal(65, 10, 30)\n",
    "\n",
    "t_stat, p_value, result = two_sample_t_test(sample1, sample2)\n",
    "print(f\"T-statistic: {t_stat}\")\n",
    "print(f\"P-value: {p_value}\")\n",
    "print(f\"Result: {result} the null hypothesis\")\n"
   ]
  },
  {
   "cell_type": "markdown",
   "id": "00030378-5180-4954-9c4b-d0f18add430f",
   "metadata": {},
   "source": [
    "Q11: What is Student’s t distribution? When to use the t-Distribution."
   ]
  },
  {
   "cell_type": "markdown",
   "id": "5dda31df-d3d5-4ae4-8d3e-9a40c3e6cabc",
   "metadata": {},
   "source": [
    "Student's t-distribution:\n",
    "\n",
    "The t-distribution is a probability distribution used when estimating the population mean from a small sample size, especially when the population standard deviation is unknown. It is similar to the normal distribution but has heavier tails.\n",
    "\n",
    "When to use:\n",
    "\n",
    "When the sample size is small (n < 30).\n",
    "\n",
    "When the population standard deviation is unknown."
   ]
  }
 ],
 "metadata": {
  "kernelspec": {
   "display_name": "Python 3 (ipykernel)",
   "language": "python",
   "name": "python3"
  },
  "language_info": {
   "codemirror_mode": {
    "name": "ipython",
    "version": 3
   },
   "file_extension": ".py",
   "mimetype": "text/x-python",
   "name": "python",
   "nbconvert_exporter": "python",
   "pygments_lexer": "ipython3",
   "version": "3.11.7"
  }
 },
 "nbformat": 4,
 "nbformat_minor": 5
}
