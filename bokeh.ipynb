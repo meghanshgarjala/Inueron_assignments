{
 "cells": [
  {
   "cell_type": "markdown",
   "id": "75c8dce0-5987-471c-86c3-2d26f2701a76",
   "metadata": {},
   "source": [
    "Q1"
   ]
  },
  {
   "cell_type": "raw",
   "id": "896f9b59-94f3-45c8-a59b-e3247e2a00b3",
   "metadata": {},
   "source": [
    "from bokeh.plotting import figure, show\n",
    "from bokeh.io import output_file\n",
    "\n",
    "output_file(\"bokeh_plot.html\")\n",
    "\n",
    "p = figure(title=\"Simple Bokeh Plot\", x_axis_label='X-Axis', y_axis_label='Y-Axis')\n",
    "\n",
    "p.circle([1, 2, 3, 4, 5], [6, 7, 2, 4, 5], size=10, color=\"navy\", alpha=0.5)\n",
    "\n",
    "show(p)\n"
   ]
  },
  {
   "cell_type": "markdown",
   "id": "e8d750f3-1055-4414-96a9-85416adc474c",
   "metadata": {},
   "source": [
    "Q2"
   ]
  },
  {
   "cell_type": "markdown",
   "id": "2f8ab471-85df-4e90-9dc9-ff8df27f652b",
   "metadata": {},
   "source": [
    "Glyphs are the basic visual building blocks of Bokeh plots. They are graphical representations of data points, such as circles, lines, rectangles, and others.\n",
    "\n",
    "To add glyphs to a Bokeh plot, you use the glyph methods provided by the figure object, such as circle, line, rect, etc.\n",
    "\n",
    "Here's an example of adding different types of glyphs to a Bokeh plot:"
   ]
  },
  {
   "cell_type": "raw",
   "id": "47a0cca9-9f02-4237-9bec-4a5e1ec29640",
   "metadata": {},
   "source": [
    "from bokeh.plotting import figure, show\r\n",
    "from bokeh.io import output_file\r\n",
    "\r\n",
    "# Set the output file\r\n",
    "output_file(\"glyphs_example.html\")\r\n",
    "\r\n",
    "# Create a figure object\r\n",
    "p = figure(title=\"Bokeh Glyphs Example\", x_axis_label='X-Axis', y_axis_label='Y-Axis')\r\n",
    "\r\n",
    "# Add different glyphs to the figure\r\n",
    "p.circle([1, 2, 3], [4, 5, 6], size=15, color=\"navy\", alpha=0.5, legend_label=\"Circle\")\r\n",
    "p.line([1, 2, 3], [6, 5, 4], line_width=2, color=\"orange\", legend_label=\"Line\")\r\n",
    "p.rect([1, 2, 3], [4, 5, 6], width=0.2, height=0.4, color=\"green\", alpha=0.5, legend_label=\"Rectangle\")\r\n",
    "\r\n",
    "# Show the plot\r\n",
    "show(p)\r\n"
   ]
  },
  {
   "cell_type": "markdown",
   "id": "6b8d261e-d973-48de-bc92-6223256c85ad",
   "metadata": {},
   "source": [
    "Q3"
   ]
  },
  {
   "cell_type": "raw",
   "id": "56c21ced-d0b8-46a1-8d9f-0159726ef2a6",
   "metadata": {},
   "source": [
    "from bokeh.plotting import figure, show\n",
    "from bokeh.io import output_file\n",
    "\n",
    "# Set the output file\n",
    "output_file(\"customized_plot.html\")\n",
    "\n",
    "# Create a figure object\n",
    "p = figure(title=\"Customized Bokeh Plot\", x_axis_label='X-Axis', y_axis_label='Y-Axis')\n",
    "\n",
    "# Add glyphs\n",
    "p.circle([1, 2, 3], [4, 5, 6], size=10, color=\"navy\", alpha=0.5, legend_label=\"Points\")\n",
    "\n",
    "# Customize title\n",
    "p.title.text = \"Custom Title\"\n",
    "p.title.text_color = \"blue\"\n",
    "p.title.text_font = \"times\"\n",
    "p.title.text_font_style = \"italic\"\n",
    "\n",
    "# Customize axes\n",
    "p.xaxis.axis_label = \"Custom X-Axis\"\n",
    "p.xaxis.axis_label_text_color = \"green\"\n",
    "p.xaxis.axis_label_text_font_size = \"20pt\"\n",
    "p.yaxis.axis_label = \"Custom Y-Axis\"\n",
    "p.yaxis.axis_label_text_color = \"red\"\n",
    "p.yaxis.axis_label_text_font_size = \"20pt\"\n",
    "\n",
    "# Customize legend\n",
    "p.legend.title = \"Legend\"\n",
    "p.legend.title_text_font_size = '12pt'\n",
    "p.legend.label_text_font_size = '10pt'\n",
    "p.legend.label_text_color = 'olive'\n",
    "\n",
    "# Show the plot\n",
    "show(p)\n"
   ]
  },
  {
   "cell_type": "markdown",
   "id": "d31af717-d38a-41f5-a230-9c8da503998f",
   "metadata": {},
   "source": [
    "Q4"
   ]
  },
  {
   "cell_type": "markdown",
   "id": "65b25447-0a1e-4cf7-89a9-ba73981b9f34",
   "metadata": {},
   "source": [
    "A Bokeh server allows you to create interactive plots that can be updated in real-time. It enables Python code to run continuously, allowing for more dynamic and interactive data visualizations.\n",
    "\n",
    "To create an interactive plot using a Bokeh server, you typically follow these steps:\n",
    "\n",
    "Define the plot and its update logic in a function.\n",
    "\n",
    "Use the curdoc function to add the plot to the Bokeh document.\n",
    "\n",
    "Run the Bokeh server using the bokeh serve command.\n",
    "\n",
    "Here's an example of a simple interactive plot that updates in real-time:"
   ]
  },
  {
   "cell_type": "raw",
   "id": "d1dde729-a56e-4959-a0e4-928701ca28dc",
   "metadata": {},
   "source": [
    "from bokeh.plotting import figure, curdoc\n",
    "from bokeh.models import ColumnDataSource\n",
    "from bokeh.layouts import column\n",
    "from bokeh.models.widgets import Button\n",
    "import numpy as np\n",
    "\n",
    "# Create a ColumnDataSource\n",
    "source = ColumnDataSource(data=dict(x=[], y=[]))\n",
    "\n",
    "# Create a figure object\n",
    "p = figure(title=\"Real-Time Data Update\", x_axis_label='X-Axis', y_axis_label='Y-Axis')\n",
    "\n",
    "# Add circle glyphs to the figure\n",
    "p.circle(x='x', y='y', source=source, size=10, color=\"navy\", alpha=0.5)\n",
    "\n",
    "# Define a function to update the data\n",
    "def update():\n",
    "    new_data = dict(x=[np.random.random()], y=[np.random.random()])\n",
    "    source.stream(new_data)\n",
    "\n",
    "# Create a button widget\n",
    "button = Button(label=\"Update Data\")\n",
    "button.on_click(update)\n",
    "\n",
    "# Arrange plots and widgets in layouts\n",
    "layout = column(button, p)\n",
    "\n",
    "# Add the layout to the current document\n",
    "curdoc().add_root(layout)\n"
   ]
  }
 ],
 "metadata": {
  "kernelspec": {
   "display_name": "Python 3 (ipykernel)",
   "language": "python",
   "name": "python3"
  },
  "language_info": {
   "codemirror_mode": {
    "name": "ipython",
    "version": 3
   },
   "file_extension": ".py",
   "mimetype": "text/x-python",
   "name": "python",
   "nbconvert_exporter": "python",
   "pygments_lexer": "ipython3",
   "version": "3.11.7"
  }
 },
 "nbformat": 4,
 "nbformat_minor": 5
}
