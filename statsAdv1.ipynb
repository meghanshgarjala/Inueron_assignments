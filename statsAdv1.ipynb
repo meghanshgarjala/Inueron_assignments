{
 "cells": [
  {
   "cell_type": "markdown",
   "id": "891c56e3-a5fd-455a-b745-c485dd6d4f87",
   "metadata": {},
   "source": [
    "Q1. What is the Probability density function?"
   ]
  },
  {
   "cell_type": "markdown",
   "id": "843755f6-8c44-4af1-adce-46bfe2e0bda3",
   "metadata": {},
   "source": [
    "The Probability Density Function (PDF) describes the likelihood of a random variable taking on a given value. For a continuous random variable, the PDF is a function that describes the relative likelihood for this random variable to take on a given value. The area under the PDF curve within a given interval represents the probability that the random variable falls within that interval."
   ]
  },
  {
   "cell_type": "markdown",
   "id": "aad3979c-9b37-44d4-9018-66ba27b16eb1",
   "metadata": {},
   "source": [
    "Q2. What are the types of Probability distribution?"
   ]
  },
  {
   "cell_type": "markdown",
   "id": "15e36611-e870-4451-a65d-611e30527b9a",
   "metadata": {},
   "source": [
    "Types of probability distributions include:\n",
    "\n",
    "Normal Distribution (Gaussian): Characterized by its bell-shaped curve and defined by its mean and standard deviation.\n",
    "\n",
    "Binomial Distribution: Describes the number of successes in a fixed number of independent Bernoulli trials with the same probability of success.\n",
    "    \n",
    "Poisson Distribution: Describes the number of events occurring within a fixed interval of time or space when these events happen with a known constant mean rate and independently of the time since the last event.\n",
    "    \n",
    "Exponential Distribution: Describes the time between events in a Poisson point process.\n",
    "    \n",
    "Uniform Distribution: All outcomes are equally likely; the probability distribution is constant."
   ]
  },
  {
   "cell_type": "markdown",
   "id": "b3f71569-c33a-468e-b9f4-a954fd9a83a0",
   "metadata": {},
   "source": [
    "Q3. Write a Python function to calculate the probability density function of a normal distribution with\r\n",
    "given mean and standard deviation at a given point."
   ]
  },
  {
   "cell_type": "code",
   "execution_count": 1,
   "id": "23022981-ce2e-4dba-82b2-abb7eee3f089",
   "metadata": {},
   "outputs": [
    {
     "name": "stdout",
     "output_type": "stream",
     "text": [
      "The PDF value of N(0, 1^2) at x = 0 is 0.3989422804014327\n"
     ]
    }
   ],
   "source": [
    "import numpy as np\n",
    "import scipy.stats as stats\n",
    "\n",
    "def normal_pdf(mean, std_dev, x):\n",
    "    return stats.norm.pdf(x, mean, std_dev)\n",
    "\n",
    "mean = 0\n",
    "std_dev = 1\n",
    "x = 0\n",
    "pdf_value = normal_pdf(mean, std_dev, x)\n",
    "print(f\"The PDF value of N({mean}, {std_dev}^2) at x = {x} is {pdf_value}\")\n"
   ]
  },
  {
   "cell_type": "markdown",
   "id": "5de79aa2-62d0-4739-92ab-6c477dec519c",
   "metadata": {},
   "source": [
    "Q4. What are the properties of Binomial distribution? Give two examples of events where binomial\r\n",
    "distribution can be applied."
   ]
  },
  {
   "cell_type": "markdown",
   "id": "afd8f16a-ea97-4526-b2d8-3af43838b34b",
   "metadata": {},
   "source": [
    "Properties of Binomial Distribution:\n",
    "\n",
    "The number of trials (n) is fixed.\n",
    "\n",
    "Each trial has only two possible outcomes: success or failure.\n",
    "\n",
    "The probability of success (p) is the same for each trial.\n",
    "\n",
    "The trials are independent of each other.\n",
    "\n",
    " Examples:\n",
    "\n",
    "Flipping a coin 10 times and counting the number of heads.\n",
    "\n",
    "Number of defective products in a batch of 50 items if each item has a 5% defect rate."
   ]
  },
  {
   "cell_type": "markdown",
   "id": "676582b8-d96d-4694-9492-b0e4a57b41dd",
   "metadata": {},
   "source": [
    "Q5. Generate a random sample of size 1000 from a binomial distribution with probability of success 0.4\r\n",
    "and plot a histogram of the results using matplotlib."
   ]
  },
  {
   "cell_type": "code",
   "execution_count": 2,
   "id": "5bae8c38-e7a6-4473-a21f-6b7d87685a41",
   "metadata": {},
   "outputs": [
    {
     "data": {
      "image/png": "[encoded data removed]",
      "text/plain": [
       "<Figure size 640x480 with 1 Axes>"
      ]
     },
     "metadata": {},
     "output_type": "display_data"
    }
   ],
   "source": [
    "import numpy as np\n",
    "import matplotlib.pyplot as plt\n",
    "\n",
    "n = 10\n",
    "p = 0.4\n",
    "sample_size = 1000\n",
    "\n",
    "sample = np.random.binomial(n, p, sample_size)\n",
    "\n",
    "plt.hist(sample, bins=range(0, n+2), edgecolor='black')\n",
    "plt.title('Binomial Distribution Histogram')\n",
    "plt.xlabel('Number of Successes')\n",
    "plt.ylabel('Frequency')\n",
    "plt.show()\n"
   ]
  },
  {
   "cell_type": "markdown",
   "id": "c660ffb9-ffb0-4e78-b429-be730524faee",
   "metadata": {},
   "source": [
    "Q6. Write a Python function to calculate the cumulative distribution function of a Poisson distribution\r\n",
    "with given mean at a given point."
   ]
  },
  {
   "cell_type": "code",
   "execution_count": 3,
   "id": "dd40a646-559b-4f74-9e62-25282d8575e7",
   "metadata": {},
   "outputs": [
    {
     "name": "stdout",
     "output_type": "stream",
     "text": [
      "The CDF value of Poisson(5) at x = 3 is 0.2650259152973616\n"
     ]
    }
   ],
   "source": [
    "import scipy.stats as stats\n",
    "\n",
    "def poisson_cdf(mean, x):\n",
    "    return stats.poisson.cdf(x, mean)\n",
    "\n",
    "mean = 5\n",
    "x = 3\n",
    "cdf_value = poisson_cdf(mean, x)\n",
    "print(f\"The CDF value of Poisson({mean}) at x = {x} is {cdf_value}\")\n"
   ]
  },
  {
   "cell_type": "markdown",
   "id": "4e95b5a6-64b0-4cfa-8d58-cca5fd9d05e8",
   "metadata": {},
   "source": [
    "Q7. How Binomial distribution different from Poisson distribution?"
   ]
  },
  {
   "cell_type": "markdown",
   "id": "a312bdc4-40e0-44f3-9a15-f950ccf89800",
   "metadata": {},
   "source": [
    "Differences:\n",
    "\n",
    "Trial Count: Binomial distribution has a fixed number of trials n, whereas Poisson distribution typically models the number of events in a fixed interval of time or space with no upper limit on the number of events.\n",
    "\n",
    "Probability: In a Binomial distribution, the probability of success p is fixed for each trial. In a Poisson distribution, the average rate (mean) λ of occurrence is constant.\n",
    "\n",
    "Application: Binomial distribution is used for scenarios with a fixed number of trials (e.g., coin flips). Poisson distribution is used for counting events over continuous time or space (e.g., number of emails received per hour)."
   ]
  },
  {
   "cell_type": "markdown",
   "id": "d783a935-4beb-437c-a0cc-e9c51032e0d2",
   "metadata": {},
   "source": [
    "Q8. Generate a random sample of size 1000 from a Poisson distribution with mean 5 and calculate the\r\n",
    "sample mean and variance."
   ]
  },
  {
   "cell_type": "code",
   "execution_count": 4,
   "id": "4b5a4329-d3f5-4ee0-8d3e-73ccb313b383",
   "metadata": {},
   "outputs": [
    {
     "name": "stdout",
     "output_type": "stream",
     "text": [
      "Sample Mean: 4.95\n",
      "Sample Variance: 5.0215\n"
     ]
    }
   ],
   "source": [
    "sample_size = 1000\n",
    "mean = 5\n",
    "\n",
    "sample = np.random.poisson(mean, sample_size)\n",
    "sample_mean = np.mean(sample)\n",
    "sample_variance = np.var(sample)\n",
    "\n",
    "print(f\"Sample Mean: {sample_mean}\")\n",
    "print(f\"Sample Variance: {sample_variance}\")\n"
   ]
  },
  {
   "cell_type": "markdown",
   "id": "d42f4b5f-d413-4b6e-8576-a5c883324e32",
   "metadata": {},
   "source": [
    "Q9. How mean and variance are related in Binomial distribution and Poisson distribution?"
   ]
  },
  {
   "cell_type": "markdown",
   "id": "a6cf6951-8fcd-4398-a5ca-3a58ec06a8af",
   "metadata": {},
   "source": [
    "Binomial Distribution: For a binomial distribution with parameters n (number of trials) and p (probability of success), the mean is np and the variance is 𝑛𝑝(1−𝑝)\n",
    "np(1−p).\n",
    "   \n",
    "Poisson Distribution: For a Poisson distribution with parameter λ (mean rate), both the mean and variance are λ."
   ]
  },
  {
   "cell_type": "markdown",
   "id": "34bddc27-55a6-4071-a17f-7a220c920473",
   "metadata": {},
   "source": [
    "Q10. In normal distribution with respect to mean position, where does the least frequent data appear?"
   ]
  },
  {
   "cell_type": "markdown",
   "id": "b6816d3b-300e-4974-9e18-3f596cf9f3d1",
   "metadata": {},
   "source": [
    "In a normal distribution, the least frequent data appears in the tails (far left and far right) of the distribution, which are further away from the mean."
   ]
  }
 ],
 "metadata": {
  "kernelspec": {
   "display_name": "Python 3 (ipykernel)",
   "language": "python",
   "name": "python3"
  },
  "language_info": {
   "codemirror_mode": {
    "name": "ipython",
    "version": 3
   },
   "file_extension": ".py",
   "mimetype": "text/x-python",
   "name": "python",
   "nbconvert_exporter": "python",
   "pygments_lexer": "ipython3",
   "version": "3.11.7"
  }
 },
 "nbformat": 4,
 "nbformat_minor": 5
}
