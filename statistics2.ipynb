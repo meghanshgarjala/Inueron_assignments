{
 "cells": [
  {
   "cell_type": "markdown",
   "id": "bb35dbb4-9b16-4f61-9243-2e993887a67b",
   "metadata": {},
   "source": [
    "Q1. What are the three measures of central tendency?"
   ]
  },
  {
   "cell_type": "markdown",
   "id": "bb58a258-d3d2-4913-b9c6-6b65958198f6",
   "metadata": {},
   "source": [
    "The three measures of central tendency are:\n",
    "\n",
    "Mean: The average of all data points.\n",
    "\n",
    "Median: The middle value when the data points are arranged in ascending order.\n",
    "\n",
    "Mode: The most frequently occurring value in the dataset."
   ]
  },
  {
   "cell_type": "markdown",
   "id": "1bffcc64-02d1-430c-a571-40ab47adf1b2",
   "metadata": {},
   "source": [
    "Q2. What is the difference between the mean, median, and mode? How are they used to measure the\n",
    "central tendency of a dataset?"
   ]
  },
  {
   "cell_type": "markdown",
   "id": "a454c7fb-4961-4c45-a503-1f7f076255cb",
   "metadata": {},
   "source": [
    "Mean: Calculated as the sum of all data points divided by the number of data points. It is sensitive to outliers and provides a measure of the average value of the dataset.\n",
    "    \n",
    "Median: The middle value in an ordered dataset. If the dataset has an even number of observations, the median is the average of the two middle numbers. It is less affected by outliers and skewed data.\n",
    "\n",
    "Mode: The most frequently occurring value in a dataset. A dataset can have one mode, more than one mode, or no mode at all. It is useful for categorical data where we want to know the most common category."
   ]
  },
  {
   "cell_type": "markdown",
   "id": "b592361f-efbb-46bb-ad5b-47255f74959e",
   "metadata": {},
   "source": [
    "Q3. Measure the three measures of central tendency for the given height data:\n",
    "[178,177,176,177,178.2,178,175,179,180,175,178.9,176.2,177,172.5,178,176.5]"
   ]
  },
  {
   "cell_type": "code",
   "execution_count": 5,
   "id": "5596fbd0-c678-43f6-a700-6212017d71ce",
   "metadata": {},
   "outputs": [
    {
     "data": {
      "text/plain": [
       "(177.01875, 177.0, ModeResult(mode=177.0, count=3))"
      ]
     },
     "execution_count": 5,
     "metadata": {},
     "output_type": "execute_result"
    }
   ],
   "source": [
    "import numpy as np\n",
    "from scipy import stats\n",
    "\n",
    "height_data = [178, 177, 176, 177, 178.2, 178, 175, 179, 180, 175, 178.9, 176.2, 177, 172.5, 178, 176.5]\n",
    "\n",
    "mean = np.mean(height_data)\n",
    "median = np.median(height_data)\n",
    "mode = stats.mode(height_data)\n",
    "\n",
    "mean, median, mode"
   ]
  },
  {
   "cell_type": "markdown",
   "id": "ccaa4038-b05c-47ab-b7a2-735b45c0eb0a",
   "metadata": {},
   "source": [
    "Q4. Find the standard deviation for the given data:\n",
    "[178,177,176,177,178.2,178,175,179,180,175,178.9,176.2,177,172.5,178,176.5]"
   ]
  },
  {
   "cell_type": "code",
   "execution_count": 4,
   "id": "25383c25-67ff-41da-adbc-3b5812d1e66d",
   "metadata": {},
   "outputs": [
    {
     "data": {
      "text/plain": [
       "1.7885814036548633"
      ]
     },
     "execution_count": 4,
     "metadata": {},
     "output_type": "execute_result"
    }
   ],
   "source": [
    "std_dev = np.std(height_data)\n",
    "\n",
    "std_dev"
   ]
  },
  {
   "cell_type": "markdown",
   "id": "402190c1-ad78-4c97-96a8-0592aceb2e89",
   "metadata": {},
   "source": [
    "Q5. How are measures of dispersion such as range, variance, and standard deviation used to describe\n",
    "the spread of a dataset? Provide an example."
   ]
  },
  {
   "cell_type": "markdown",
   "id": "0c724899-0dc9-428b-9a91-d09cd0353f1a",
   "metadata": {},
   "source": [
    "Range: The difference between the maximum and minimum values in a dataset. It gives a basic measure of the spread.\n",
    "    \n",
    "Variance: The average of the squared differences from the mean. It gives an idea of how much the data points vary from the mean.\n",
    "\n",
    "Standard Deviation: The square root of the variance. It is in the same unit as the data and provides an average measure of the spread around the mean."
   ]
  },
  {
   "cell_type": "markdown",
   "id": "c2bbd710-4fe4-406a-9d50-1c7f8d4e0990",
   "metadata": {},
   "source": [
    "Q6. What is a Venn diagram?"
   ]
  },
  {
   "cell_type": "markdown",
   "id": "dd7a185f-b21b-4564-8922-7e98d115978d",
   "metadata": {},
   "source": [
    "A Venn diagram is a visual representation of the relationships between different sets. It uses overlapping circles to show commonalities and differences between sets. Each circle represents a set, and the overlapping areas represent the intersection of the sets."
   ]
  },
  {
   "cell_type": "markdown",
   "id": "7e5a7cd6-bce8-4f30-82ca-a642ce49a615",
   "metadata": {},
   "source": [
    "Q7. For the two given sets A = (2,3,4,5,6,7) & B = (0,2,6,8,10). Find:\n",
    "(i) A B\n",
    "(ii) A ⋃ B"
   ]
  },
  {
   "cell_type": "markdown",
   "id": "3537ddaa-acb1-4dcf-836a-939a10e0a817",
   "metadata": {},
   "source": [
    "(i)  𝐴 ∩ 𝐵\n",
    "A∩B (Intersection of A and B)\n",
    "\n",
    "Answer: {2, 6}\n",
    "\n",
    "(ii) 𝐴 ∪ 𝐵\n",
    "A∪B (Union of A and B)\n",
    "\n",
    "Answer: {0, 2, 3, 4, 5, 6, 7, 8, 10}"
   ]
  },
  {
   "cell_type": "markdown",
   "id": "f19fd8f6-08e8-4233-84c5-aa941d88d4ea",
   "metadata": {},
   "source": [
    "Q8. What do you understand about skewness in data?"
   ]
  },
  {
   "cell_type": "markdown",
   "id": "4561b3cf-cc62-4a28-b154-a0d2b8073800",
   "metadata": {},
   "source": [
    "Skewness refers to the asymmetry in the distribution of data.\n",
    "\n",
    "Right (Positive) Skew: The tail on the right side of the distribution is longer or fatter. Mean > Median.\n",
    "\n",
    "Left (Negative) Skew: The tail on the left side of the distribution is longer or fatter. Mean < Median."
   ]
  },
  {
   "cell_type": "markdown",
   "id": "97b7ce31-c332-4632-8afa-01b572c4a035",
   "metadata": {},
   "source": [
    "Q9. If a data is right skewed then what will be the position of median with respect to mean?"
   ]
  },
  {
   "cell_type": "markdown",
   "id": "1709a1fe-832c-468b-b458-d29e2f2e9ba2",
   "metadata": {},
   "source": [
    "In a right-skewed distribution, the mean is greater than the median. Hence, the median will be positioned to the left of the mean."
   ]
  },
  {
   "cell_type": "markdown",
   "id": "28617e2a-897f-44a1-b028-3225a33b38b7",
   "metadata": {},
   "source": [
    "Q10. Explain the difference between covariance and correlation. How are these measures used in\n",
    "statistical analysis?"
   ]
  },
  {
   "cell_type": "markdown",
   "id": "720bccf9-89c0-421e-9394-8ccd51c963ad",
   "metadata": {},
   "source": [
    "Covariance: Measures the direction of the linear relationship between two variables. It can be positive (variables move in the same direction) or negative (variables move in opposite directions).\n",
    "\n",
    "Correlation: Measures the strength and direction of the linear relationship between two variables, scaled between -1 and 1. A correlation of 1 indicates a perfect positive relationship, -1 indicates a perfect negative relationship, and 0 indicates no linear relationship.\n",
    "\n",
    "Usage:\n",
    "\n",
    "Covariance: Helps in understanding whether variables tend to increase or decrease together.\n",
    "\n",
    "Correlation: Provides a normalized measure to compare the strength of relationships between different pairs of variables."
   ]
  },
  {
   "cell_type": "markdown",
   "id": "ea9e9fd7-8889-469e-b8df-0e9ad79d2009",
   "metadata": {},
   "source": [
    "Q11. What is the formula for calculating the sample mean? Provide an example calculation for a\n",
    "dataset."
   ]
  },
  {
   "cell_type": "raw",
   "id": "e8e570aa-7b87-44ca-801f-19f98021b81c",
   "metadata": {},
   "source": [
    "Mean = (Σf \\* x) / Σf\n",
    "\n",
    "Example:\r\n",
    "\r\n",
    "Using the provided example data:\r\n",
    "\r\n",
    "Marks Obtained\tNumber of students\r\n",
    "100\t2\r\n",
    "95\t7\r\n",
    "88\t10\r\n",
    "76\t6\r\n",
    "69\t5\r\n",
    "To calculate the mean:\r\n",
    "\r\n",
    "Sum the individual values: 100 + 95 + 88 + 76 + 69 = 428\r\n",
    "Count the total number of observations: 2 + 7 + 10 + 6 + 5 = 30\r\n",
    "Divide the sum by the count: 428 ÷ 30 = 14.27\r\n",
    "Therefore, the mean marks obtained is 14.27."
   ]
  },
  {
   "cell_type": "markdown",
   "id": "bad08430-c8f0-442a-9092-7cb279152606",
   "metadata": {},
   "source": [
    "Q12. For a normal distribution data what is the relationship between its measure of central tendency?"
   ]
  },
  {
   "cell_type": "markdown",
   "id": "a6924996-334e-4849-ae35-905e35d66e35",
   "metadata": {},
   "source": [
    "In a normal distribution, the mean, median, and mode are all equal and located at the center of the distribution."
   ]
  },
  {
   "cell_type": "markdown",
   "id": "2e47cbb4-45a9-4499-86bf-80739d42bbf2",
   "metadata": {},
   "source": [
    "Q13. How is covariance different from correlation?"
   ]
  },
  {
   "cell_type": "markdown",
   "id": "3af8790a-44cf-4b78-9967-d7fbcd250afb",
   "metadata": {},
   "source": [
    "Covariance: Measures the degree to which two variables move together. It is not standardized and depends on the units of the variables.\n",
    "\n",
    "Correlation: Standardizes covariance by dividing by the product of the standard deviations of the variables, resulting in a unitless measure between -1 and 1."
   ]
  },
  {
   "cell_type": "markdown",
   "id": "fe6b8f94-d612-42bc-bf42-9b0d92fca383",
   "metadata": {},
   "source": [
    "Q14. How do outliers affect measures of central tendency and dispersion? Provide an example."
   ]
  },
  {
   "cell_type": "markdown",
   "id": "b08a8a73-7e49-41b4-b886-6d1c6ca5aa61",
   "metadata": {},
   "source": [
    "Outliers can significantly affect measures of central tendency and dispersion:\n",
    "\n",
    "Mean: Outliers can skew the mean, making it higher or lower than the central value of the majority of the data.\n",
    "\n",
    "Median: Less affected by outliers, as it depends on the middle value(s) of the dataset.\n",
    "\n",
    "Mode: Not affected by outliers, as it is based on frequency.\n",
    "\n",
    "Range, Variance, and Standard Deviation: Outliers can greatly increase these measures, indicating a larger spread in the data.\n",
    "\n",
    "Example:\n",
    "Consider the data: [2, 4, 6, 8, 10]\n",
    "\n",
    "Mean: 6\n",
    "\n",
    "Median: 6\n",
    "\n",
    "If we add an outlier (50):\n",
    "\n",
    "New data: [2, 4, 6, 8, 10, 50]\n",
    "\n",
    "Mean: 13.33 (increased due to outlier)\n",
    "\n",
    "Median: 7 (slightly affected)\n",
    "\n",
    "Range: 48 (increased from 8)\n",
    "\n",
    "Variance and Standard Deviation: Also increased due to the outlier."
   ]
  }
 ],
 "metadata": {
  "kernelspec": {
   "display_name": "Python 3 (ipykernel)",
   "language": "python",
   "name": "python3"
  },
  "language_info": {
   "codemirror_mode": {
    "name": "ipython",
    "version": 3
   },
   "file_extension": ".py",
   "mimetype": "text/x-python",
   "name": "python",
   "nbconvert_exporter": "python",
   "pygments_lexer": "ipython3",
   "version": "3.11.7"
  }
 },
 "nbformat": 4,
 "nbformat_minor": 5
}
