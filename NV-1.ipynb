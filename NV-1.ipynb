{
 "cells": [
  {
   "cell_type": "markdown",
   "id": "c6ce92bb-986a-4160-aa0e-d9678b505146",
   "metadata": {},
   "source": [
    "Q1. What is Bayes' theorem?\n",
    "\n",
    "\n",
    "Q2. What is the formula for Bayes' theorem?\n",
    "\n",
    "\n",
    "Q3. How is Bayes' theorem used in practice?\n",
    "\n",
    "\n",
    "Q4. What is the relationship between Bayes' theorem and conditional probability?\n",
    "\n",
    "\n",
    "Q5. How do you choose which type of Naive Bayes classifier to use for any given problem?\n",
    "\n",
    "\n",
    "Q6. Assignment:\n",
    "You have a dataset with two features, X1 and X2, and two possible classes, A and B. You want to use Naive\n",
    "Bayes to classify a new instance with features X1 = 3 and X2 = 4. The following table shows the frequency of\n",
    "each feature value for each class:\n",
    "\n",
    "\n",
    "Class X1=1 X1=2 X1=3 X2=1 X2=2 X2=3 X2=4\n",
    "\n",
    "\n",
    "A 3 3 4 4 3 3 3\n",
    "\n",
    "\n",
    "B 2 2 1 2 2 2 3\n",
    "\n",
    "\n",
    "Assuming equal prior probabilities for each class, which class would Naive Bayes predict the new instance\n",
    "to belong to?"
   ]
  },
  {
   "cell_type": "markdown",
   "id": "2b667186-72b3-47aa-a734-8e4a468a877c",
   "metadata": {},
   "source": [
    "1.\n",
    "Bayes' Theorem is a fundamental theorem in probability theory that describes the relationship between conditional probabilities. It provides a way to update the probability estimate for a hypothesis as more evidence or information becomes available.\n",
    "\n",
    "\n",
    "\n",
    "2.\n",
    "The formula for Bayes' Theorem is:\n",
    "𝑃(𝐻∣𝐸)=𝑃(𝐸∣𝐻)/⋅𝑃(𝐻)𝑃(𝐸)\n",
    "Where:\n",
    "P(H∣E) is the posterior probability: the probability of the hypothesis \n",
    "H given the evidence \n",
    "P(E∣H) is the likelihood: the probability of observing the evidence \n",
    "E given that the hypothesis H is true.\n",
    "P(H) is the prior probability: the initial probability of the hypothesis before seeing the evidence.\n",
    "P(E) is the marginal likelihood: the total probability of the evidence under all possible hypotheses.\n",
    "\n",
    "3. \n",
    "Bayes' theorem is widely used in various applications, including:\n",
    "\n",
    "Medical Diagnosis: Updating the probability of a disease given new test results.\n",
    "Spam Filtering: Calculating the probability that an email is spam based on the presence of certain words.\n",
    "Machine Learning: Forming the foundation for algorithms like Naive Bayes classifiers, which are used for text classification, sentiment analysis, and more.\n",
    "\n",
    "\n",
    "4.\n",
    "Bayes' theorem is directly derived from the definition of conditional probability. Conditional probability is the probability of an event occurring given that another event has already occurred. Bayes' theorem uses conditional probability to update beliefs based on new evidence.\n",
    "\n",
    "5.\n",
    "The choice of Naive Bayes classifier depends on the nature of the features in your dataset:\n",
    "\n",
    "Gaussian Naive Bayes: Used when the features are continuous and normally distributed.\n",
    "Multinomial Naive Bayes: Ideal for discrete features, often used in text classification problems where features represent word counts or frequencies.\n",
    "Bernoulli Naive Bayes: Best for binary features (e.g., presence or absence of a word in a document)."
   ]
  }
 ],
 "metadata": {
  "kernelspec": {
   "display_name": "Python 3 (ipykernel)",
   "language": "python",
   "name": "python3"
  },
  "language_info": {
   "codemirror_mode": {
    "name": "ipython",
    "version": 3
   },
   "file_extension": ".py",
   "mimetype": "text/x-python",
   "name": "python",
   "nbconvert_exporter": "python",
   "pygments_lexer": "ipython3",
   "version": "3.12.4"
  }
 },
 "nbformat": 4,
 "nbformat_minor": 5
}
