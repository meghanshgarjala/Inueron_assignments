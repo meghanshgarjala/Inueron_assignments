{
 "cells": [
  {
   "cell_type": "markdown",
   "id": "de5ba449-44c9-43f4-9cca-1a3a379d4129",
   "metadata": {},
   "source": [
    "Consider following code to answer further questions:\n",
    "\n",
    "import pandas as pd\n",
    "\n",
    "course_name = [‘Data Science’, ‘Machine Learning’, ‘Big Data’, ‘Data Engineer’]\n",
    "\n",
    "duration = [2,3,6,4]\n",
    "\n",
    "df = pd.DataFrame(data = {‘course_name’ : course_name, ‘duration’ : duration})"
   ]
  },
  {
   "cell_type": "code",
   "execution_count": 3,
   "id": "50484160-75e6-440a-809d-d41f689d0071",
   "metadata": {},
   "outputs": [],
   "source": [
    "import pandas as pd\n",
    "\n",
    "course_name = ['Data Science', 'Machine Learning', 'Big Data', 'Data Engineer']\n",
    "duration = [2, 3, 6, 4]\n",
    "\n",
    "df = pd.DataFrame(data={'course_name': course_name, 'duration': duration})"
   ]
  },
  {
   "cell_type": "markdown",
   "id": "a3742d66-c3a3-4b41-ae67-ebf920d456d9",
   "metadata": {},
   "source": [
    "Q1. Write a code to print the data present in the second row of the dataframe, df."
   ]
  },
  {
   "cell_type": "code",
   "execution_count": 4,
   "id": "35047f4c-e5d7-41d9-aaac-2c7def39f3ab",
   "metadata": {},
   "outputs": [
    {
     "name": "stdout",
     "output_type": "stream",
     "text": [
      "Data in the second row:\n",
      "course_name    Machine Learning\n",
      "duration                      3\n",
      "Name: 1, dtype: object\n"
     ]
    }
   ],
   "source": [
    "print(\"Data in the second row:\")\n",
    "print(df.iloc[1])"
   ]
  },
  {
   "cell_type": "markdown",
   "id": "0e2d61d2-f153-4f39-b7a4-5a6893c90158",
   "metadata": {},
   "source": [
    "Q2. What is the difference between the functions loc and iloc in pandas.DataFrame?"
   ]
  },
  {
   "cell_type": "markdown",
   "id": "7f69056f-6440-446a-bfe6-2c14448fa28b",
   "metadata": {},
   "source": [
    "loc: Accesses rows and columns by labels.\n",
    "\n",
    "iloc: Accesses rows and columns by integer positions."
   ]
  },
  {
   "cell_type": "markdown",
   "id": "c67e0fd5-bc20-48f3-b145-38dcb50594ff",
   "metadata": {},
   "source": [
    "Q3. Reindex the given dataframe using a variable, reindex = [3,0,1,2] and store it in the variable, new_df then find the output for both new_df.loc[2] and new_df.iloc[2].\n",
    "Did you observe any difference in both the outputs? If so then explain it."
   ]
  },
  {
   "cell_type": "code",
   "execution_count": 5,
   "id": "ec11cc9e-13f4-4363-baf9-19c773518407",
   "metadata": {},
   "outputs": [
    {
     "name": "stdout",
     "output_type": "stream",
     "text": [
      "Using loc:\n",
      "course_name    Big Data\n",
      "duration              6\n",
      "Name: 2, dtype: object\n",
      "\n",
      "Using iloc:\n",
      "course_name    Machine Learning\n",
      "duration                      3\n",
      "Name: 1, dtype: object\n"
     ]
    }
   ],
   "source": [
    "reindex = [3, 0, 1, 2]\n",
    "new_df = df.reindex(reindex)\n",
    "\n",
    "print(\"Using loc:\")\n",
    "print(new_df.loc[2])\n",
    "\n",
    "print(\"\\nUsing iloc:\")\n",
    "print(new_df.iloc[2])\n"
   ]
  },
  {
   "cell_type": "markdown",
   "id": "e64f6b6d-c9bd-4337-8afc-7ace2784b4fc",
   "metadata": {},
   "source": [
    "new_df.loc[2]: This will access the row with label 2 in the new_df DataFrame. \n",
    "\n",
    "After reindexing, new_df will have labels [3, 0, 1, 2]. \n",
    "\n",
    "So, new_df.loc[2] will correspond to the row where the original label 2 was moved to the position where the original label 1 was.\n",
    "    \n",
    "new_df.iloc[2]: This will access the row at position 2 (third row) in the new_df DataFrame after reindexing."
   ]
  },
  {
   "cell_type": "markdown",
   "id": "525a2f5d-6a82-4df5-b421-e006c2419d0f",
   "metadata": {},
   "source": [
    "Consider the below code to answer further questions:\n",
    "\n",
    "import pandas as pd\n",
    "\n",
    "import numpy as np\n",
    "\n",
    "columns = ['column_1', 'column_2', 'column_3', 'column_4', 'column_5', 'column_6']\n",
    "\n",
    "indices = [1,2,3,4,5,6]\n",
    "\n",
    "#Creating a dataframe:\n",
    "\n",
    "df1 = pd.DataFrame(np.random.rand(6,6), columns = columns, index = indices)"
   ]
  },
  {
   "cell_type": "code",
   "execution_count": 7,
   "id": "6b2c37bb-6e75-4445-990f-212ef27fb54f",
   "metadata": {},
   "outputs": [],
   "source": [
    "import pandas as pd\n",
    "import numpy as np\n",
    "columns = ['column_1', 'column_2', 'column_3', 'column_4', 'column_5', 'column_6']\n",
    "indices = [1,2,3,4,5,6]\n",
    "#Creating a dataframe:\n",
    "df1 = pd.DataFrame(np.random.rand(6,6), columns = columns, index = indices)"
   ]
  },
  {
   "cell_type": "markdown",
   "id": "c88ab0f2-a388-4774-a9d0-eca2b9fb6f68",
   "metadata": {},
   "source": [
    "Q4. Write a code to find the following statistical measurements for the above dataframe df1:\n",
    "(i) mean of each and every column present in the dataframe.\n",
    "(ii) standard deviation of column, ‘column_2’"
   ]
  },
  {
   "cell_type": "code",
   "execution_count": 8,
   "id": "a4e9dc06-31bc-4555-9ac4-d43fece94d9b",
   "metadata": {},
   "outputs": [
    {
     "name": "stdout",
     "output_type": "stream",
     "text": [
      "Mean of each column:\n",
      "column_1    0.539177\n",
      "column_2    0.688733\n",
      "column_3    0.571101\n",
      "column_4    0.422593\n",
      "column_5    0.346796\n",
      "column_6    0.489859\n",
      "dtype: float64\n"
     ]
    }
   ],
   "source": [
    "print(\"Mean of each column:\")\n",
    "print(df1.mean())"
   ]
  },
  {
   "cell_type": "code",
   "execution_count": 9,
   "id": "adcef437-8b05-4c2b-94f1-84dd2d7fd868",
   "metadata": {},
   "outputs": [
    {
     "name": "stdout",
     "output_type": "stream",
     "text": [
      "\n",
      "Standard deviation of column 'column_2': 0.12059936514117281\n"
     ]
    }
   ],
   "source": [
    "std_dev_column_2 = df1['column_2'].std()\n",
    "print(\"\\nStandard deviation of column 'column_2':\", std_dev_column_2)"
   ]
  },
  {
   "cell_type": "markdown",
   "id": "812e00f0-5ec2-4a8f-b9fb-f5850c08b78f",
   "metadata": {},
   "source": [
    "Q5. Replace the data present in the second row of column, ‘column_2’ by a string variable then find themean of column, column_2.\n",
    "\n",
    "If you are getting errors in executing it then explain why.\n",
    "\n",
    "[Hint: To replace the data use df1.loc[] and equate this to string data of your choice.]"
   ]
  },
  {
   "cell_type": "code",
   "execution_count": 10,
   "id": "82dd43e3-3cf7-40dd-b882-91a3578ccbef",
   "metadata": {},
   "outputs": [
    {
     "name": "stdout",
     "output_type": "stream",
     "text": [
      "\n",
      "Error occurred: unsupported operand type(s) for +: 'float' and 'str'\n",
      "Mean calculation failed due to mixed data types.\n"
     ]
    },
    {
     "name": "stderr",
     "output_type": "stream",
     "text": [
      "C:\\Users\\MEGHANSH\\AppData\\Local\\Temp\\ipykernel_26376\\768189504.py:1: FutureWarning: Setting an item of incompatible dtype is deprecated and will raise in a future error of pandas. Value 'StringData' has dtype incompatible with float64, please explicitly cast to a compatible dtype first.\n",
      "  df1.loc[2, 'column_2'] = 'StringData'\n"
     ]
    }
   ],
   "source": [
    "df1.loc[2, 'column_2'] = 'StringData'\n",
    "\n",
    "try:\n",
    "    mean_column_2 = df1['column_2'].mean()\n",
    "    print(\"\\nMean of column 'column_2':\", mean_column_2)\n",
    "except TypeError as e:\n",
    "    print(f\"\\nError occurred: {e}\")\n",
    "    print(\"Mean calculation failed due to mixed data types.\")"
   ]
  },
  {
   "cell_type": "markdown",
   "id": "20af4b7b-5d2b-4b6d-a164-26c02e8ec4ce",
   "metadata": {},
   "source": [
    "The error occurs because when you replace a numeric value in 'column_2' with a string ('StringData'), the entire column's dtype becomes object (string), making it impossible to compute a numeric mean. This leads to a TypeError when attempting to calculate the mean."
   ]
  },
  {
   "cell_type": "markdown",
   "id": "fd63e308-274a-4c4c-b4f9-c30c2ea1859e",
   "metadata": {},
   "source": [
    "Q6. What do you understand about the windows function in pandas and list the types of windows\n",
    "functions?"
   ]
  },
  {
   "cell_type": "markdown",
   "id": "73c47de5-6a8e-4fde-b00b-ac77e1e02e66",
   "metadata": {},
   "source": [
    "Window functions in pandas are used for calculating statistics over a rolling or expanding window of data.\n",
    "\n",
    "Types of window functions include:\n",
    "\n",
    "Rolling window functions: Calculations over a fixed-size window.\n",
    "\n",
    "Example: rolling.mean(), rolling.sum()\n",
    "\n",
    "Expanding window functions: Calculations including all data points up to the current point.\n",
    "\n",
    "Example: expanding.mean(), expanding.sum()\n",
    "\n",
    "Exponentially weighted window functions: Assigns exponentially decreasing weights over time.\n",
    "\n",
    "Example: ewm.mean(), ewm.std()"
   ]
  },
  {
   "cell_type": "markdown",
   "id": "119a2ee0-8866-46a3-af4b-5733b4c42dc8",
   "metadata": {},
   "source": [
    "Q7. Write a code to print only the current month and year at the time of answering this question.\n",
    "[Hint: Use pandas.datetime function]"
   ]
  },
  {
   "cell_type": "code",
   "execution_count": 11,
   "id": "1156a76d-7834-4073-9e28-fc8df28aa9b8",
   "metadata": {},
   "outputs": [
    {
     "name": "stdout",
     "output_type": "stream",
     "text": [
      "Current month: July, Current year: 2024\n"
     ]
    }
   ],
   "source": [
    "import pandas as pd\n",
    "\n",
    "current_date = pd.Timestamp.now()\n",
    "\n",
    "print(f\"Current month: {current_date.month_name()}, Current year: {current_date.year}\")"
   ]
  },
  {
   "cell_type": "markdown",
   "id": "5d79d586-1c7f-4550-8978-c10419592284",
   "metadata": {},
   "source": [
    "Q8. Write a Python program that takes in two dates as input (in the format YYYY-MM-DD) and\n",
    "calculates the difference between them in days, hours, and minutes using Pandas time delta. The\n",
    "program should prompt the user to enter the dates and display the result."
   ]
  },
  {
   "cell_type": "code",
   "execution_count": 1,
   "id": "d1316373-eb63-4884-9e60-3b00b79a3f2f",
   "metadata": {},
   "outputs": [
    {
     "name": "stdin",
     "output_type": "stream",
     "text": [
      "Enter the start date (YYYY-MM-DD):  2024-07-14\n",
      "Enter the end date (YYYY-MM-DD):  2024-09-14\n"
     ]
    },
    {
     "name": "stdout",
     "output_type": "stream",
     "text": [
      "Difference: 62 days, 0 hours, 0 minutes\n"
     ]
    }
   ],
   "source": [
    "import pandas as pd\n",
    "\n",
    "def calculate_date_difference(start_date, end_date):\n",
    "    try:\n",
    "        start = pd.Timestamp(start_date)\n",
    "        end = pd.Timestamp(end_date)\n",
    "     \n",
    "        delta = end - start\n",
    "        \n",
    "        days_diff = delta.days\n",
    "        hours_diff = delta.seconds // 3600\n",
    "        minutes_diff = (delta.seconds % 3600) // 60\n",
    "        \n",
    "        return days_diff, hours_diff, minutes_diff\n",
    "    \n",
    "    except ValueError as e:\n",
    "        print(f\"Error: {e}\")\n",
    "        return None\n",
    "\n",
    "start_date = input(\"Enter the start date (YYYY-MM-DD): \")\n",
    "end_date = input(\"Enter the end date (YYYY-MM-DD): \")\n",
    "\n",
    "result = calculate_date_difference(start_date, end_date)\n",
    "if result is not None:\n",
    "    days_diff, hours_diff, minutes_diff = result\n",
    "    print(f\"Difference: {days_diff} days, {hours_diff} hours, {minutes_diff} minutes\")\n"
   ]
  },
  {
   "cell_type": "markdown",
   "id": "72b2534c-a38b-4eb2-9ad2-3c2b2b9f58d3",
   "metadata": {},
   "source": [
    "Q9: Convert a specified column to categorical data type and display sorted data"
   ]
  },
  {
   "cell_type": "markdown",
   "id": "a7443a8e-b8af-445c-b361-4491eccafd28",
   "metadata": {},
   "source": [
    "import pandas as pd\n",
    "\n",
    "\n",
    "def convert_to_categorical(file_path, column_name, category_order):\n",
    "    try:\n",
    "       \n",
    "        df = pd.read_csv(file_path)\n",
    "              df[column_name] = pd.Categorical(df[column_name], categories=category_order, ordered=True)\n",
    "     \n",
    "        sorted_df = df.sort_values(by=column_name)\n",
    "        print(\"Sorted Data:\")\n",
    "        print(sorted_df)\n",
    "        \n",
    "    except FileNotFoundError:\n",
    "        print(f\"Error: File '{file_path}' not found.\")\n",
    "    except KeyError:\n",
    "        print(f\"Error: Column '{column_name}' not found in the DataFrame.\")\n",
    "\n",
    "\n",
    "if __name__ == \"__main__\":\n",
    "    file_path = input(\"Enter the file path of the CSV file: \")\n",
    "    \n",
    "    column_name = input(\"Enter the column name to convert to categorical: \")\n",
    "    \n",
    "    category_order = input(\"Enter the category order (comma-separated): \").split(',')\n",
    "    \n",
    "    convert_to_categorical(file_path, column_name, category_order)\n"
   ]
  },
  {
   "cell_type": "markdown",
   "id": "5359a2e6-0ddf-4ac5-a89c-9c7a3c9f00ce",
   "metadata": {},
   "source": [
    "Q10: Visualize sales data using a stacked bar chart"
   ]
  },
  {
   "cell_type": "markdown",
   "id": "0ddfcb1a-348d-41d8-8915-2992c3775b95",
   "metadata": {},
   "source": [
    "import pandas as pd\n",
    "import matplotlib.pyplot as plt\n",
    "\n",
    "def visualize_sales(file_path):\n",
    "\n",
    "    try:\n",
    "        df = pd.read_csv(file_path)\n",
    "        \n",
    "        # Group by product category and sum sales over time\n",
    "        sales_data = df.groupby(['Product Category', 'Date']).sum()['Sales'].unstack()\n",
    "        \n",
    "        # Plot stacked bar chart\n",
    "        sales_data.plot(kind='bar', stacked=True, figsize=(10, 6))\n",
    "        plt.xlabel('Date')\n",
    "        plt.ylabel('Sales')\n",
    "        plt.title('Stacked Bar Chart of Sales by Product Category')\n",
    "        plt.legend(title='Product Category', bbox_to_anchor=(1.05, 1), loc='upper left')\n",
    "        plt.show()\n",
    "        \n",
    "    except FileNotFoundError:\n",
    "        print(f\"Error: File '{file_path}' not found.\")\n",
    "\n",
    "\n",
    "if __name__ == \"__main__\":\n",
    "    file_path = input(\"Enter the file path of the CSV file: \")\n",
    "    \n",
    "    visualize_sales(file_path)\n"
   ]
  },
  {
   "cell_type": "markdown",
   "id": "e3961c5a-b917-4df7-aece-f0d4362ee44e",
   "metadata": {},
   "source": [
    "Q11: Calculate and display mean, median, and mode of test scores from student data"
   ]
  },
  {
   "cell_type": "markdown",
   "id": "b65d5853-58b9-4fab-b615-3547c2883b15",
   "metadata": {},
   "source": [
    "import pandas as pd\n",
    "\n",
    "def calculate_statistics(file_path):\n",
    "    try:\n",
    "  \n",
    "        df = pd.read_csv(file_path)\n",
    "\n",
    "        mean_score = df['Test Score'].mean()\n",
    "        median_score = df['Test Score'].median()\n",
    "        mode_scores = df['Test Score'].mode()\n",
    "\n",
    "        results = pd.DataFrame({\n",
    "            'Statistic': ['Mean', 'Median', 'Mode'],\n",
    "            'Value': [mean_score, median_score, ', '.join(map(str, mode_scores))]\n",
    "        })\n",
    "        print(results.to_string(index=False))\n",
    "        \n",
    "    except FileNotFoundError:\n",
    "        print(f\"Error: File '{file_path}' not found.\")\n",
    "    except KeyError:\n",
    "        print(f\"Error: Column 'Test Score' not found in the DataFrame.\")\n",
    "\n",
    "if __name__ == \"__main__\":\n",
    "    file_path = input(\"Enter the file path of the CSV file containing student data: \")\n",
    "    \n",
    "    calculate_statistics(file_path)\n"
   ]
  }
 ],
 "metadata": {
  "kernelspec": {
   "display_name": "Python 3 (ipykernel)",
   "language": "python",
   "name": "python3"
  },
  "language_info": {
   "codemirror_mode": {
    "name": "ipython",
    "version": 3
   },
   "file_extension": ".py",
   "mimetype": "text/x-python",
   "name": "python",
   "nbconvert_exporter": "python",
   "pygments_lexer": "ipython3",
   "version": "3.11.7"
  }
 },
 "nbformat": 4,
 "nbformat_minor": 5
}
