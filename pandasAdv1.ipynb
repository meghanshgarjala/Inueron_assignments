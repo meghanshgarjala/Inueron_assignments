{
 "cells": [
  {
   "cell_type": "markdown",
   "id": "b6f9ead1-f785-470e-9f4c-b6edbe797f1e",
   "metadata": {},
   "source": [
    "Q1. List any five functions of the pandas library with execution."
   ]
  },
  {
   "cell_type": "markdown",
   "id": "ab106566-2e2a-46d9-b442-56f6fb2877fd",
   "metadata": {},
   "source": [
    "Creating a DataFrame: The pd.DataFrame() function is used to create a DataFrame from a dictionary or a list of lists.\n",
    "\n",
    "Reading a CSV file: The pd.read_csv() function is used to read a CSV file into a DataFrame.\n",
    "    \n",
    "Descriptive Statistics: The df.describe() function is used to generate descriptive statistics of the DataFrame.\n",
    "\n",
    "Filtering Data: The .loc[] function is used for label-based indexing to filter data.\n",
    "    \n",
    "Grouping Data: The df.groupby() function is used to group data by a specific column and apply aggregation functions."
   ]
  },
  {
   "cell_type": "markdown",
   "id": "258b7705-56bf-4123-b9d5-2e2b6d9c6b33",
   "metadata": {},
   "source": [
    "Q2. Given a Pandas DataFrame df with columns 'A', 'B', and 'C', write a Python function to re-index the\n",
    "DataFrame with a new index that starts from 1 and increments by 2 for each row."
   ]
  },
  {
   "cell_type": "code",
   "execution_count": 2,
   "id": "46e65f6a-f870-4774-af37-b078b263aa13",
   "metadata": {},
   "outputs": [
    {
     "name": "stdout",
     "output_type": "stream",
     "text": [
      "DataFrame:\n",
      "    A  B  C\n",
      "0  1  4  7\n",
      "1  2  5  8\n",
      "2  3  6  9\n",
      "\n",
      "Descriptive Statistics:\n",
      "          A    B    C\n",
      "count  3.0  3.0  3.0\n",
      "mean   2.0  5.0  8.0\n",
      "std    1.0  1.0  1.0\n",
      "min    1.0  4.0  7.0\n",
      "25%    1.5  4.5  7.5\n",
      "50%    2.0  5.0  8.0\n",
      "75%    2.5  5.5  8.5\n",
      "max    3.0  6.0  9.0\n",
      "\n",
      "Filtered DataFrame (A > 1):\n",
      "    A  B  C\n",
      "1  2  5  8\n",
      "2  3  6  9\n",
      "\n",
      "Grouped DataFrame by column A:\n",
      "    B  C\n",
      "A      \n",
      "1  4  7\n",
      "2  5  8\n",
      "3  6  9\n"
     ]
    }
   ],
   "source": [
    "import pandas as pd\n",
    "\n",
    "\n",
    "data = {'A': [1, 2, 3], 'B': [4, 5, 6], 'C': [7, 8, 9]}\n",
    "df = pd.DataFrame(data)\n",
    "print(\"DataFrame:\\n\", df)\n",
    "\n",
    "print(\"\\nDescriptive Statistics:\\n\", df.describe())\n",
    "\n",
    "filtered_df = df.loc[df['A'] > 1]\n",
    "print(\"\\nFiltered DataFrame (A > 1):\\n\", filtered_df)\n",
    "\n",
    "grouped_df = df.groupby('A').sum()\n",
    "print(\"\\nGrouped DataFrame by column A:\\n\", grouped_df)\n",
    "\n",
    "\n",
    "def reindex_dataframe(df):\n",
    "\n",
    "    new_index = range(1, 2*len(df), 2)\n",
    "\n",
    "    df.index = new_index\n",
    "    return df"
   ]
  },
  {
   "cell_type": "markdown",
   "id": "68f67903-3b20-400b-8672-0e2c9e97d800",
   "metadata": {},
   "source": [
    "Q3. You have a Pandas DataFrame df with a column named 'Values'. Write a Python function that\n",
    "iterates over the DataFrame and calculates the sum of the first three values in the 'Values' column. The\n",
    "function should print the sum to the console.\n",
    "For example, if the 'Values' column of df contains the values [10, 20, 30, 40, 50], your function should\n",
    "calculate and print the sum of the first three values, which is 60."
   ]
  },
  {
   "cell_type": "code",
   "execution_count": 6,
   "id": "58da4778-4d38-44d9-bf7c-ac7e292fa89a",
   "metadata": {},
   "outputs": [
    {
     "name": "stdout",
     "output_type": "stream",
     "text": [
      "The sum of the first three values is: 60\n"
     ]
    }
   ],
   "source": [
    "import pandas as pd\n",
    "\n",
    "def sum_first_three_values(df):\n",
    " \n",
    "    if 'Values' not in df.columns:\n",
    "        print(\"Column 'Values' not found in DataFrame\")\n",
    "        return\n",
    "    \n",
    "    if len(df['Values']) < 3:\n",
    "        print(\"Less than three values in the 'Values' column\")\n",
    "        return\n",
    "   \n",
    "    sum_values = 0\n",
    "    for i in range(3):\n",
    "        sum_values += df['Values'].iloc[i]\n",
    "    \n",
    "    print(f\"The sum of the first three values is: {sum_values}\")\n",
    "\n",
    "\n",
    "data = {'Values': [10, 20, 30, 40, 50]}\n",
    "df = pd.DataFrame(data)\n",
    "sum_first_three_values(df)\n"
   ]
  },
  {
   "cell_type": "markdown",
   "id": "fa0efda6-2122-43a1-89cb-8839db6cd0cd",
   "metadata": {},
   "source": [
    "Q4. Given a Pandas DataFrame df with a column 'Text', write a Python function to create a new column\n",
    "'Word_Count' that contains the number of words in each row of the 'Text' column."
   ]
  },
  {
   "cell_type": "code",
   "execution_count": 7,
   "id": "76f5dfed-5e74-46f9-922e-5d970cee9b8e",
   "metadata": {},
   "outputs": [
    {
     "name": "stdout",
     "output_type": "stream",
     "text": [
      "              Text  Word_Count\n",
      "0      Hello world           2\n",
      "1  Pandas is great           3\n",
      "2   This is a test           4\n"
     ]
    }
   ],
   "source": [
    "import pandas as pd\n",
    "\n",
    "def add_word_count_column(df):\n",
    "    \n",
    "    if 'Text' not in df.columns:\n",
    "        print(\"Column 'Text' not found in DataFrame\")\n",
    "        return\n",
    "    \n",
    "    df['Word_Count'] = df['Text'].apply(lambda x: len(str(x).split()))\n",
    "    \n",
    "    return df\n",
    "    \n",
    "data = {'Text': ['Hello world', 'Pandas is great', 'This is a test']}\n",
    "df = pd.DataFrame(data)\n",
    "df = add_word_count_column(df)\n",
    "print(df)\n"
   ]
  },
  {
   "cell_type": "markdown",
   "id": "d964dd30-aa6a-4650-8a25-e88546db1124",
   "metadata": {},
   "source": [
    "Q5. How are DataFrame.size() and DataFrame.shape() different?"
   ]
  },
  {
   "cell_type": "markdown",
   "id": "8dbc6e76-8c56-4a79-bc60-47df1424e8bf",
   "metadata": {},
   "source": [
    "DataFrame.size:\n",
    "\n",
    "1) DataFrame.size returns the total number of elements in the DataFrame.\n",
    "\n",
    "2) It calculates this as the product of the number of rows and columns in the DataFrame.\n",
    "    \n",
    "   For example, if a DataFrame has 3 rows and 4 columns, df.size would return 12 (3 * 4).\n",
    "\n",
    "DataFrame.shape:\n",
    "\n",
    "1) DataFrame.shape returns a tuple representing the dimensions of the DataFrame.\n",
    "\n",
    "2) The tuple contains two elements: the number of rows followed by the number of columns.\n",
    "\n",
    "   For example, if a DataFrame has 3 rows and 4 columns, df.shape would return (3, 4)."
   ]
  },
  {
   "cell_type": "markdown",
   "id": "27d57fb8-7b26-44f4-b1df-c043a183f874",
   "metadata": {},
   "source": [
    "Q6. Which function of pandas do we use to read an excel file?"
   ]
  },
  {
   "cell_type": "markdown",
   "id": "0291c611-9d9b-4e91-a1e1-185e3d2310fe",
   "metadata": {},
   "source": [
    "df = pd.read_excel('file.xlsx')"
   ]
  },
  {
   "cell_type": "markdown",
   "id": "af659f2c-5d1e-4003-b3c2-ee019afb72d9",
   "metadata": {},
   "source": [
    "Q7. You have a Pandas DataFrame df that contains a column named 'Email' that contains email addresses in the format 'username@domain.com'. Write a Python function that creates a new column 'Username' in df that contains only the username part of each email address.\n",
    "The username is the part of the email address that appears before the '@' symbol. For example, if the \n",
    "email address is 'john.doe@example.com', the 'Username' column should contain 'john.doe'. You \r\n",
    "function should extract the username from each email address and store it in the new 'Username'\r\n",
    "column."
   ]
  },
  {
   "cell_type": "code",
   "execution_count": 14,
   "id": "f76378cc-43d7-4568-808c-378c233397df",
   "metadata": {},
   "outputs": [
    {
     "name": "stdout",
     "output_type": "stream",
     "text": [
      "                    Email    Username\n",
      "0    john.doe@example.com    john.doe\n",
      "1  jane.smith@example.com  jane.smith\n",
      "2   bob.brown@example.com   bob.brown\n"
     ]
    }
   ],
   "source": [
    "import pandas as pd\n",
    "\n",
    "def extract_username(df):\n",
    "    \n",
    "    if 'Email' not in df.columns:\n",
    "        print(\"Column 'Email' not found in DataFrame\")\n",
    "        return df\n",
    "\n",
    "    df['Username'] = df['Email'].str.split('@').str[0]\n",
    "    \n",
    "    return df\n",
    "\n",
    "data = {'Email': ['john.doe@example.com', 'jane.smith@example.com', 'bob.brown@example.com']}\n",
    "df = pd.DataFrame(data)\n",
    "df = extract_username(df)\n",
    "print(df)\n"
   ]
  },
  {
   "cell_type": "markdown",
   "id": "0eff57b6-5a1d-4850-845a-2229a4ec4b2f",
   "metadata": {},
   "source": [
    "Q8. You have a Pandas DataFrame df with columns 'A', 'B', and 'C'. Write a Python function that selects\n",
    "all rows where the value in column 'A' is greater than 5 and the value in column 'B' is less than 10. The\n",
    "function should return a new DataFrame that contains only the selected rows.\n",
    "For example, if df contains the following values:\n",
    "\n",
    "A B C\n",
    "\n",
    "0 3 5 1\n",
    "\n",
    "1 8 2 7\n",
    "\n",
    "2 6 9 4\n",
    "\n",
    "3 2 3 5\n",
    "\n",
    "4 9 1 2\n",
    "\n",
    "Assignment\n",
    "\n",
    "Data Science Masters\n",
    "\n",
    "Your function should select the following rows: A B C\n",
    "\n",
    "1 8 2 7\n",
    "\n",
    "4 9 1 2\n",
    "\n",
    "The function should return a new DataFrame that contains only the selected rows."
   ]
  },
  {
   "cell_type": "code",
   "execution_count": 13,
   "id": "95ba5a0d-650e-494e-95da-7c0916da59ef",
   "metadata": {},
   "outputs": [
    {
     "name": "stdout",
     "output_type": "stream",
     "text": [
      "   A  B  C\n",
      "1  8  2  7\n",
      "2  6  9  4\n",
      "4  9  1  2\n"
     ]
    }
   ],
   "source": [
    "import pandas as pd\n",
    "\n",
    "def select_rows(df):\n",
    "\n",
    "    if 'A' not in df.columns or 'B' not in df.columns:\n",
    "        print(\"Columns 'A' or 'B' not found in DataFrame\")\n",
    "        return pd.DataFrame()  # return an empty DataFrame\n",
    "    \n",
    "    selected_df = df[(df['A'] > 5) & (df['B'] < 10)]\n",
    "    \n",
    "    return selected_df\n",
    "\n",
    "data = {\n",
    "    'A': [3, 8, 6, 2, 9],\n",
    "    'B': [5, 2, 9, 3, 1],\n",
    "    'C': [1, 7, 4, 5, 2]\n",
    "}\n",
    "df = pd.DataFrame(data)\n",
    "selected_rows = select_rows(df)\n",
    "print(selected_rows)\n"
   ]
  },
  {
   "cell_type": "markdown",
   "id": "f543a3af-b9f4-4190-8059-8871a55bad10",
   "metadata": {},
   "source": [
    "Q9. Given a Pandas DataFrame df with a column 'Values', write a Python function to calculate the mean,\n",
    "median, and standard deviation of the values in the 'Values' column."
   ]
  },
  {
   "cell_type": "code",
   "execution_count": 12,
   "id": "f7be1401-68e4-4c48-a118-3fe0bba85ddb",
   "metadata": {},
   "outputs": [
    {
     "name": "stdout",
     "output_type": "stream",
     "text": [
      "Mean: 30.0\n",
      "Median: 30.0\n",
      "Standard Deviation: 15.811388300841896\n"
     ]
    }
   ],
   "source": [
    "import pandas as pd\n",
    "\n",
    "def calculate_statistics(df):\n",
    "   \n",
    "    if 'Values' not in df.columns:\n",
    "        print(\"Column 'Values' not found in DataFrame\")\n",
    "        return None, None, None\n",
    "\n",
    "    mean_value = df['Values'].mean()\n",
    "    median_value = df['Values'].median()\n",
    "    std_deviation = df['Values'].std()\n",
    "    \n",
    "    return mean_value, median_value, std_deviation\n",
    "\n",
    "data = {'Values': [10, 20, 30, 40, 50]}\n",
    "df = pd.DataFrame(data)\n",
    "mean_val, median_val, std_dev = calculate_statistics(df)\n",
    "\n",
    "print(f\"Mean: {mean_val}\")\n",
    "print(f\"Median: {median_val}\")\n",
    "print(f\"Standard Deviation: {std_dev}\")\n"
   ]
  },
  {
   "cell_type": "markdown",
   "id": "410e9fef-f0c9-42fa-bed7-e3bbf84eb49e",
   "metadata": {},
   "source": [
    "Q10. Given a Pandas DataFrame df with a column 'Sales' and a column 'Date', write a Python function to create a new column 'MovingAverage' that contains the moving average of the sales for the past 7 days for each row in the DataFrame. The moving average should be calculated using a window of size 7 and should include the current day."
   ]
  },
  {
   "cell_type": "code",
   "execution_count": 11,
   "id": "7bdc7ab4-cb62-47c7-b3ea-77e1655c208c",
   "metadata": {},
   "outputs": [
    {
     "name": "stdout",
     "output_type": "stream",
     "text": [
      "        Date  Sales  MovingAverage\n",
      "0 2023-01-01    100     100.000000\n",
      "1 2023-01-02    110     105.000000\n",
      "2 2023-01-03     95     101.666667\n",
      "3 2023-01-04    105     102.500000\n",
      "4 2023-01-05    120     106.000000\n",
      "5 2023-01-06    115     107.500000\n",
      "6 2023-01-07    130     110.714286\n",
      "7 2023-01-08    125     114.285714\n",
      "8 2023-01-09    140     118.571429\n",
      "9 2023-01-10    135     124.285714\n"
     ]
    }
   ],
   "source": [
    "import pandas as pd\n",
    "\n",
    "def calculate_moving_average(df):\n",
    "\n",
    "    if 'Sales' not in df.columns or 'Date' not in df.columns:\n",
    "        print(\"Columns 'Sales' or 'Date' not found in DataFrame\")\n",
    "        return df\n",
    "    \n",
    "    df['Date'] = pd.to_datetime(df['Date'])\n",
    "     \n",
    "    df = df.sort_values(by='Date').reset_index(drop=True)\n",
    "    \n",
    "    df['MovingAverage'] = df['Sales'].rolling(window=7, min_periods=1).mean()\n",
    "    \n",
    "    return df\n",
    "\n",
    "data = {\n",
    "    'Date': ['2023-01-01', '2023-01-02', '2023-01-03', '2023-01-04', '2023-01-05',\n",
    "             '2023-01-06', '2023-01-07', '2023-01-08', '2023-01-09', '2023-01-10'],\n",
    "    'Sales': [100, 110, 95, 105, 120, 115, 130, 125, 140, 135]\n",
    "}\n",
    "df = pd.DataFrame(data)\n",
    "df = calculate_moving_average(df)\n",
    "print(df)\n"
   ]
  },
  {
   "cell_type": "markdown",
   "id": "c5f2f13d-6a3e-4ec7-86bc-1e0b2775d2ef",
   "metadata": {},
   "source": [
    "Q11. You have a Pandas DataFrame df with a column 'Date'. Write a Python function that creates a new column 'Weekday' in the DataFrame. The 'Weekday' column should contain the weekday name (e.g. Monday, Tuesday) corresponding to each date in the 'Date' column. For example, if df contains the following values:\n",
    "\n",
    "Date\n",
    "\n",
    "0 2023-01-01\n",
    "\n",
    "1 2023-01-02\n",
    "\n",
    "2 2023-01-03\n",
    "\n",
    "3 2023-01-04\n",
    "\n",
    "4 2023-01-05\n",
    "\n",
    "Your function should create the following DataFrame:\n",
    "\n",
    "Date Weekday\n",
    "\n",
    "0 2023-01-01 Sunday\n",
    "\n",
    "1 2023-01-02 Monday\n",
    "\n",
    "2 2023-01-03 Tuesday\n",
    "\n",
    "3 2023-01-04 Wednesday\n",
    "\n",
    "4 2023-01-05 Thursday\n",
    "\n",
    "The function should return the modified DataFrame."
   ]
  },
  {
   "cell_type": "code",
   "execution_count": 8,
   "id": "f2a3a977-e21e-4f06-a09c-a4598b94a199",
   "metadata": {},
   "outputs": [
    {
     "name": "stdout",
     "output_type": "stream",
     "text": [
      "        Date    Weekday\n",
      "0 2023-01-01     Sunday\n",
      "1 2023-01-02     Monday\n",
      "2 2023-01-03    Tuesday\n",
      "3 2023-01-04  Wednesday\n",
      "4 2023-01-05   Thursday\n"
     ]
    }
   ],
   "source": [
    "import pandas as pd\n",
    "\n",
    "def add_weekday_column(df):\n",
    "\n",
    "    if 'Date' not in df.columns:\n",
    "        print(\"Column 'Date' not found in DataFrame\")\n",
    "        return df\n",
    "    \n",
    "    df['Date'] = pd.to_datetime(df['Date'])\n",
    "    \n",
    "    df['Weekday'] = df['Date'].dt.day_name()\n",
    "    \n",
    "    return df\n",
    "\n",
    "data = {'Date': ['2023-01-01', '2023-01-02', '2023-01-03', '2023-01-04', '2023-01-05']}\n",
    "df = pd.DataFrame(data)\n",
    "df = add_weekday_column(df)\n",
    "print(df)\n"
   ]
  },
  {
   "cell_type": "markdown",
   "id": "f0619897-cfec-4e96-b94f-28795cd12ac3",
   "metadata": {},
   "source": [
    "Q12. Given a Pandas DataFrame df with a column 'Date' that contains timestamps, write a Python function to select all rows where the date is between '2023-01-01' and '2023-01-31'."
   ]
  },
  {
   "cell_type": "code",
   "execution_count": 10,
   "id": "e9ad125e-8c1b-4cfa-800e-cb5697557207",
   "metadata": {},
   "outputs": [
    {
     "name": "stdout",
     "output_type": "stream",
     "text": [
      "        Date  Value\n",
      "1 2023-01-01     20\n",
      "2 2023-01-15     30\n",
      "3 2023-01-31     40\n"
     ]
    }
   ],
   "source": [
    "import pandas as pd\n",
    "\n",
    "def select_date_range(df):\n",
    "\n",
    "    if 'Date' not in df.columns:\n",
    "        print(\"Column 'Date' not found in DataFrame\")\n",
    "        return df\n",
    "    \n",
    "    df['Date'] = pd.to_datetime(df['Date'])\n",
    "    \n",
    "    start_date = '2023-01-01'\n",
    "    end_date = '2023-01-31'\n",
    "    \n",
    "    mask = (df['Date'] >= start_date) & (df['Date'] <= end_date)\n",
    "    filtered_df = df.loc[mask]\n",
    "    \n",
    "    return filtered_df\n",
    "\n",
    "data = {'Date': ['2022-12-31', '2023-01-01', '2023-01-15', '2023-01-31', '2023-02-01'],\n",
    "        'Value': [10, 20, 30, 40, 50]}\n",
    "df = pd.DataFrame(data)\n",
    "filtered_df = select_date_range(df)\n",
    "print(filtered_df)\n"
   ]
  },
  {
   "cell_type": "markdown",
   "id": "98443855-5c5e-4a18-b844-a9eccd77c170",
   "metadata": {},
   "source": [
    "Q13. To use the basic functions of pandas, what is the first and foremost necessary library that needs to be imported?"
   ]
  },
  {
   "cell_type": "code",
   "execution_count": 9,
   "id": "a9ec3c16-4ff8-470f-882a-92b32d93ba01",
   "metadata": {},
   "outputs": [],
   "source": [
    "import pandas as pd"
   ]
  }
 ],
 "metadata": {
  "kernelspec": {
   "display_name": "Python 3 (ipykernel)",
   "language": "python",
   "name": "python3"
  },
  "language_info": {
   "codemirror_mode": {
    "name": "ipython",
    "version": 3
   },
   "file_extension": ".py",
   "mimetype": "text/x-python",
   "name": "python",
   "nbconvert_exporter": "python",
   "pygments_lexer": "ipython3",
   "version": "3.11.7"
  }
 },
 "nbformat": 4,
 "nbformat_minor": 5
}
